{
 "cells": [
  {
   "cell_type": "markdown",
   "metadata": {},
   "source": [
    "# Process Text"
   ]
  },
  {
   "cell_type": "code",
   "execution_count": 1,
   "metadata": {},
   "outputs": [
    {
     "name": "stderr",
     "output_type": "stream",
     "text": [
      "[nltk_data] Downloading package stopwords to\n",
      "[nltk_data]     /Users/peiyuns/nltk_data...\n",
      "[nltk_data]   Package stopwords is already up-to-date!\n",
      "[nltk_data] Downloading package averaged_perceptron_tagger to\n",
      "[nltk_data]     /Users/peiyuns/nltk_data...\n",
      "[nltk_data]   Package averaged_perceptron_tagger is already up-to-\n",
      "[nltk_data]       date!\n"
     ]
    },
    {
     "data": {
      "text/plain": [
       "True"
      ]
     },
     "execution_count": 1,
     "metadata": {},
     "output_type": "execute_result"
    }
   ],
   "source": [
    "import nltk\n",
    "nltk.download(\"stopwords\")\n",
    "from nltk.corpus import stopwords\n",
    "from nltk.stem import WordNetLemmatizer\n",
    "from nltk.tokenize.casual import TweetTokenizer\n",
    "import re\n",
    "from collections import Counter\n",
    "from nltk import pos_tag\n",
    "nltk.download('averaged_perceptron_tagger')"
   ]
  },
  {
   "cell_type": "code",
   "execution_count": 2,
   "metadata": {},
   "outputs": [],
   "source": [
    "stop_words = set(stopwords.words('english'))\n",
    "lemmatizer = WordNetLemmatizer()\n",
    "tokenizer = TweetTokenizer(preserve_case=False)"
   ]
  },
  {
   "cell_type": "code",
   "execution_count": 3,
   "metadata": {},
   "outputs": [],
   "source": [
    "def handle_hashtag(hashtag):\n",
    "    i = 0\n",
    "    while(hashtag[i] == \"#\"):\n",
    "        i += 1\n",
    "        if i == len(hashtag):\n",
    "            return -1\n",
    "    \n",
    "    # multiple hashtags in the word\n",
    "    if \"#\" in hashtag[i:]:\n",
    "        return -1\n",
    "    \n",
    "    return hashtag[i:]"
   ]
  },
  {
   "cell_type": "code",
   "execution_count": 4,
   "metadata": {},
   "outputs": [],
   "source": [
    "def process(tweets):\n",
    "    \n",
    "    nouns = [\"NN\", \"NNS\", \"NNP\", \"NNPS\"]\n",
    "    \n",
    "    c = Counter()\n",
    "    \n",
    "    for tweet in tweets:\n",
    "        \n",
    "        new_tweet = []\n",
    "        \n",
    "        for word, pos in pos_tag(tokenizer.tokenize(tweet)):\n",
    "            \n",
    "            # keep nouns only\n",
    "            if pos not in nouns:\n",
    "                continue\n",
    "            \n",
    "            # lowercase\n",
    "            word = word.lower()\n",
    "            \n",
    "            # regular words\n",
    "            if not (word in stop_words or re.search(\"[^a-zA-Z]\",word)):  # if not stopwords and non-alphabetic\n",
    "                new_tweet.append(lemmatizer.lemmatize(word))\n",
    "            \n",
    "            # hashtags\n",
    "            elif word[0] == \"#\":  \n",
    "                hashtag = handle_hashtag(word)\n",
    "                if hashtag != -1:\n",
    "                    new_tweet.append(lemmatizer.lemmatize(hashtag))\n",
    "        \n",
    "            c += Counter(new_tweet)\n",
    "    \n",
    "    return c"
   ]
  },
  {
   "cell_type": "code",
   "execution_count": 5,
   "metadata": {},
   "outputs": [],
   "source": [
    "def process_one_tweet(tweet):\n",
    "    \n",
    "    nouns = [\"NN\", \"NNS\", \"NNP\", \"NNPS\"]\n",
    "    \n",
    "    new_tweet = []\n",
    "        \n",
    "    for word, pos in pos_tag(tokenizer.tokenize(tweet)):\n",
    "\n",
    "        # keep nouns only\n",
    "        if pos not in nouns:\n",
    "            continue\n",
    "\n",
    "        # lowercase\n",
    "        word = word.lower()\n",
    "\n",
    "        # regular words\n",
    "        if not (word in stop_words or re.search(\"[^a-zA-Z]\",word)):  # if not stopwords and non-alphabetic\n",
    "            new_tweet.append(lemmatizer.lemmatize(word))\n",
    "\n",
    "        # hashtags\n",
    "        elif word[0] == \"#\":  \n",
    "            hashtag = handle_hashtag(word)\n",
    "            if hashtag != -1:\n",
    "                new_tweet.append(lemmatizer.lemmatize(hashtag))\n",
    "\n",
    "    return Counter(new_tweet)"
   ]
  },
  {
   "cell_type": "markdown",
   "metadata": {},
   "source": [
    "# TEST"
   ]
  },
  {
   "cell_type": "code",
   "execution_count": 6,
   "metadata": {},
   "outputs": [
    {
     "data": {
      "text/plain": [
       "Counter({'tweet': 2, 'cat': 1})"
      ]
     },
     "execution_count": 6,
     "metadata": {},
     "output_type": "execute_result"
    }
   ],
   "source": [
    "process([\"this is the first tweet\", \"this is the second tweet\", \"here is a cat\"])"
   ]
  },
  {
   "cell_type": "code",
   "execution_count": 7,
   "metadata": {},
   "outputs": [
    {
     "data": {
      "text/plain": [
       "Counter({'tweet': 1})"
      ]
     },
     "execution_count": 7,
     "metadata": {},
     "output_type": "execute_result"
    }
   ],
   "source": [
    "process_one_tweet(\"this is the first tweet\")"
   ]
  },
  {
   "cell_type": "code",
   "execution_count": 8,
   "metadata": {},
   "outputs": [],
   "source": [
    "from nltk.corpus import twitter_samples"
   ]
  },
  {
   "cell_type": "code",
   "execution_count": 9,
   "metadata": {},
   "outputs": [],
   "source": [
    "sample = twitter_samples.strings(\"tweets.20150430-223406.json\")"
   ]
  },
  {
   "cell_type": "code",
   "execution_count": 10,
   "metadata": {},
   "outputs": [
    {
     "data": {
      "text/plain": [
       "20000"
      ]
     },
     "execution_count": 10,
     "metadata": {},
     "output_type": "execute_result"
    }
   ],
   "source": [
    "len(sample)"
   ]
  },
  {
   "cell_type": "code",
   "execution_count": 11,
   "metadata": {},
   "outputs": [
    {
     "data": {
      "text/plain": [
       "[('rt', 102504),\n",
       " ('miliband', 30382),\n",
       " ('tory', 27074),\n",
       " ('snp', 14021),\n",
       " ('cameron', 12800),\n",
       " ('time', 9291),\n",
       " ('farage', 8185),\n",
       " ('labour', 6809),\n",
       " ('support', 6511),\n",
       " ('ed', 6392),\n",
       " ('david', 6358),\n",
       " ('leader', 6191),\n",
       " ('deal', 5255),\n",
       " ('clegg', 4738),\n",
       " ('poll', 4562),\n",
       " ('bbcqt', 4414),\n",
       " ('vote', 4309),\n",
       " ('question', 4260),\n",
       " ('w', 4239),\n",
       " ('work', 4236),\n",
       " ('tonight', 4013),\n",
       " ('people', 3888),\n",
       " ('ukip', 3836),\n",
       " ('scotland', 3314),\n",
       " ('ft', 3136),\n",
       " ('sturgeon', 3031),\n",
       " ('asknigelfarage', 2924),\n",
       " ('audience', 2868),\n",
       " ('lot', 2706),\n",
       " ('inequality', 2682),\n",
       " ('mp', 2643),\n",
       " ('milliband', 2496),\n",
       " ('party', 2370),\n",
       " ('yougov', 2299),\n",
       " ('government', 2294),\n",
       " ('lab', 2231),\n",
       " ('man', 2087),\n",
       " ('election', 2067),\n",
       " ('bbc', 2037),\n",
       " ('con', 1998),\n",
       " ('year', 1978),\n",
       " ('govt', 1869),\n",
       " ('tax', 1813),\n",
       " ('debate', 1757),\n",
       " ('pm', 1756),\n",
       " ('benefit', 1646),\n",
       " ('coalition', 1610),\n",
       " ('thing', 1536),\n",
       " ('voter', 1532),\n",
       " ('power', 1501)]"
      ]
     },
     "execution_count": 11,
     "metadata": {},
     "output_type": "execute_result"
    }
   ],
   "source": [
    "process(sample).most_common(50)"
   ]
  },
  {
   "cell_type": "markdown",
   "metadata": {},
   "source": [
    "# WORD CLOUD"
   ]
  },
  {
   "cell_type": "markdown",
   "metadata": {},
   "source": [
    "Documentation: https://amueller.github.io/word_cloud/"
   ]
  },
  {
   "cell_type": "code",
   "execution_count": 12,
   "metadata": {
    "scrolled": true
   },
   "outputs": [
    {
     "name": "stdout",
     "output_type": "stream",
     "text": [
      "Requirement already satisfied: pillow in /Users/peiyuns/anaconda2/envs/python3/lib/python3.6/site-packages (6.0.0)\n",
      "\u001b[33mWARNING: You are using pip version 19.1, however version 19.1.1 is available.\n",
      "You should consider upgrading via the 'pip install --upgrade pip' command.\u001b[0m\n",
      "Requirement already satisfied: wordcloud in /Users/peiyuns/anaconda2/envs/python3/lib/python3.6/site-packages (1.5.0)\n",
      "Requirement already satisfied: pillow in /Users/peiyuns/anaconda2/envs/python3/lib/python3.6/site-packages (from wordcloud) (6.0.0)\n",
      "Requirement already satisfied: numpy>=1.6.1 in /Users/peiyuns/anaconda2/envs/python3/lib/python3.6/site-packages (from wordcloud) (1.16.0)\n",
      "\u001b[33mWARNING: You are using pip version 19.1, however version 19.1.1 is available.\n",
      "You should consider upgrading via the 'pip install --upgrade pip' command.\u001b[0m\n"
     ]
    }
   ],
   "source": [
    "!pip3 install pillow      # image reading\n",
    "!pip3 install wordcloud"
   ]
  },
  {
   "cell_type": "code",
   "execution_count": 13,
   "metadata": {},
   "outputs": [],
   "source": [
    "# Start with loading all necessary libraries\n",
    "import numpy as np\n",
    "import pandas as pd\n",
    "from os import path\n",
    "from PIL import Image\n",
    "from wordcloud import WordCloud, STOPWORDS, ImageColorGenerator"
   ]
  },
  {
   "cell_type": "code",
   "execution_count": 14,
   "metadata": {},
   "outputs": [],
   "source": [
    "import matplotlib.pyplot as plt\n",
    "% matplotlib inline"
   ]
  },
  {
   "cell_type": "code",
   "execution_count": 15,
   "metadata": {},
   "outputs": [],
   "source": [
    "stopwords = set(STOPWORDS)\n",
    "stopwords.update([\"drink\", \"now\", \"wine\", \"flavor\", \"flavors\"])\n",
    "wordcloud = WordCloud(stopwords=stopwords, max_font_size=50, max_words=100, background_color=\"white\")\n",
    "cloud = wordcloud.generate_from_frequencies({\"have\": 20, \"take\": 3})"
   ]
  },
  {
   "cell_type": "code",
   "execution_count": 16,
   "metadata": {},
   "outputs": [
    {
     "data": {
      "image/png": "[encoded data removed]",
      "text/plain": [
       "<Figure size 432x288 with 1 Axes>"
      ]
     },
     "metadata": {},
     "output_type": "display_data"
    }
   ],
   "source": [
    "plt.imshow(cloud, interpolation='bilinear')\n",
    "plt.axis(\"off\")\n",
    "plt.show()"
   ]
  },
  {
   "cell_type": "code",
   "execution_count": 17,
   "metadata": {},
   "outputs": [
    {
     "data": {
      "text/plain": [
       "<wordcloud.wordcloud.WordCloud at 0x1a29939208>"
      ]
     },
     "execution_count": 17,
     "metadata": {},
     "output_type": "execute_result"
    }
   ],
   "source": [
    "wordcloud.to_file(\"test.png\")"
   ]
  },
  {
   "cell_type": "markdown",
   "metadata": {},
   "source": [
    "# TEST"
   ]
  },
  {
   "cell_type": "code",
   "execution_count": 18,
   "metadata": {},
   "outputs": [],
   "source": [
    "import json"
   ]
  },
  {
   "cell_type": "code",
   "execution_count": 45,
   "metadata": {},
   "outputs": [],
   "source": [
    "with open(\"anger.json\", \"r\") as f:\n",
    "    data = json.load(f)"
   ]
  },
  {
   "cell_type": "code",
   "execution_count": 46,
   "metadata": {},
   "outputs": [
    {
     "data": {
      "text/plain": [
       "dict_keys(['tweets', 'anger_tweets', 'word_freq', 'samples', 'polygon_info'])"
      ]
     },
     "execution_count": 46,
     "metadata": {},
     "output_type": "execute_result"
    }
   ],
   "source": [
    "data.keys()"
   ]
  },
  {
   "cell_type": "code",
   "execution_count": 55,
   "metadata": {},
   "outputs": [],
   "source": [
    "stopwords = set(STOPWORDS)\n",
    "stopwords.update([\"st\", \"rd\", \"lane\", \"timeline\", \"vic\", \"melbourne\", \"victoria\", \"street\", \"australia\"])\n",
    "\n",
    "for word in stopwords:\n",
    "    if word in data[\"word_freq\"]:\n",
    "        data[\"word_freq\"].pop(word)\n",
    "\n",
    "wordcloud = WordCloud(stopwords=stopwords, max_font_size=50, max_words=100, background_color=\"white\")\n",
    "cloud = wordcloud.generate_from_frequencies(data[\"word_freq\"])"
   ]
  },
  {
   "cell_type": "code",
   "execution_count": 56,
   "metadata": {},
   "outputs": [
    {
     "data": {
      "image/png": "[encoded data removed]",
      "text/plain": [
       "<Figure size 432x288 with 1 Axes>"
      ]
     },
     "metadata": {},
     "output_type": "display_data"
    }
   ],
   "source": [
    "plt.imshow(cloud, interpolation='bilinear')\n",
    "plt.axis(\"off\")\n",
    "plt.show()"
   ]
  },
  {
   "cell_type": "code",
   "execution_count": null,
   "metadata": {},
   "outputs": [],
   "source": []
  }
 ],
 "metadata": {
  "kernelspec": {
   "display_name": "Python 3",
   "language": "python",
   "name": "python3"
  },
  "language_info": {
   "codemirror_mode": {
    "name": "ipython",
    "version": 3
   },
   "file_extension": ".py",
   "mimetype": "text/x-python",
   "name": "python",
   "nbconvert_exporter": "python",
   "pygments_lexer": "ipython3",
   "version": "3.6.8"
  }
 },
 "nbformat": 4,
 "nbformat_minor": 2
}
