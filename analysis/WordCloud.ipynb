{
 "cells": [
  {
   "cell_type": "markdown",
   "metadata": {},
   "source": [
    "# Process Text"
   ]
  },
  {
   "cell_type": "code",
   "execution_count": 23,
   "metadata": {},
   "outputs": [
    {
     "name": "stderr",
     "output_type": "stream",
     "text": [
      "[nltk_data] Downloading package stopwords to\n",
      "[nltk_data]     /Users/peiyuns/nltk_data...\n",
      "[nltk_data]   Package stopwords is already up-to-date!\n",
      "[nltk_data] Downloading package averaged_perceptron_tagger to\n",
      "[nltk_data]     /Users/peiyuns/nltk_data...\n",
      "[nltk_data]   Package averaged_perceptron_tagger is already up-to-\n",
      "[nltk_data]       date!\n"
     ]
    },
    {
     "data": {
      "text/plain": [
       "True"
      ]
     },
     "execution_count": 23,
     "metadata": {},
     "output_type": "execute_result"
    }
   ],
   "source": [
    "import nltk\n",
    "nltk.download(\"stopwords\")\n",
    "from nltk.corpus import stopwords\n",
    "from nltk.stem import WordNetLemmatizer\n",
    "from nltk.tokenize.casual import TweetTokenizer\n",
    "import re\n",
    "from collections import Counter\n",
    "from nltk import pos_tag\n",
    "nltk.download('averaged_perceptron_tagger')"
   ]
  },
  {
   "cell_type": "code",
   "execution_count": 24,
   "metadata": {},
   "outputs": [],
   "source": [
    "stop_words = set(stopwords.words('english'))\n",
    "lemmatizer = WordNetLemmatizer()\n",
    "tokenizer = TweetTokenizer(preserve_case=False)"
   ]
  },
  {
   "cell_type": "code",
   "execution_count": 25,
   "metadata": {},
   "outputs": [],
   "source": [
    "def handle_hashtag(hashtag):\n",
    "    i = 0\n",
    "    while(hashtag[i] == \"#\"):\n",
    "        i += 1\n",
    "        if i == len(hashtag):\n",
    "            return -1\n",
    "    \n",
    "    # multiple hashtags in the word\n",
    "    if \"#\" in hashtag[i:]:\n",
    "        return -1\n",
    "    \n",
    "    return hashtag[i:]"
   ]
  },
  {
   "cell_type": "code",
   "execution_count": 26,
   "metadata": {},
   "outputs": [],
   "source": [
    "def process(tweets):\n",
    "    \n",
    "    nouns = [\"NN\", \"NNS\", \"NNP\", \"NNPS\"]\n",
    "    \n",
    "    c = Counter()\n",
    "    \n",
    "    for tweet in tweets:\n",
    "        \n",
    "        new_tweet = []\n",
    "        \n",
    "        for word, pos in pos_tag(tokenizer.tokenize(tweet)):\n",
    "            \n",
    "            # keep nouns only\n",
    "            if pos not in nouns:\n",
    "                continue\n",
    "            \n",
    "            # lowercase\n",
    "            word = word.lower()\n",
    "            \n",
    "            # regular words\n",
    "            if not (word in stop_words or re.search(\"[^a-zA-Z]\",word)):  # if not stopwords and non-alphabetic\n",
    "                new_tweet.append(lemmatizer.lemmatize(word))\n",
    "            \n",
    "            # hashtags\n",
    "            elif word[0] == \"#\":  \n",
    "                hashtag = handle_hashtag(word)\n",
    "                if hashtag != -1:\n",
    "                    new_tweet.append(lemmatizer.lemmatize(hashtag))\n",
    "        \n",
    "            c += Counter(new_tweet)\n",
    "    \n",
    "    return c"
   ]
  },
  {
   "cell_type": "code",
   "execution_count": 27,
   "metadata": {},
   "outputs": [],
   "source": [
    "def process_one_tweet(tweet):\n",
    "    \n",
    "    nouns = [\"NN\", \"NNS\", \"NNP\", \"NNPS\"]\n",
    "    \n",
    "    new_tweet = []\n",
    "        \n",
    "    for word, pos in pos_tag(tokenizer.tokenize(tweet)):\n",
    "\n",
    "        # keep nouns only\n",
    "        if pos not in nouns:\n",
    "            continue\n",
    "\n",
    "        # lowercase\n",
    "        word = word.lower()\n",
    "\n",
    "        # regular words\n",
    "        if not (word in stop_words or re.search(\"[^a-zA-Z]\",word)):  # if not stopwords and non-alphabetic\n",
    "            new_tweet.append(lemmatizer.lemmatize(word))\n",
    "\n",
    "        # hashtags\n",
    "        elif word[0] == \"#\":  \n",
    "            hashtag = handle_hashtag(word)\n",
    "            if hashtag != -1:\n",
    "                new_tweet.append(lemmatizer.lemmatize(hashtag))\n",
    "\n",
    "    return Counter(new_tweet)"
   ]
  },
  {
   "cell_type": "markdown",
   "metadata": {},
   "source": [
    "# TEST"
   ]
  },
  {
   "cell_type": "code",
   "execution_count": 28,
   "metadata": {},
   "outputs": [
    {
     "data": {
      "text/plain": [
       "Counter({'tweet': 2, 'cat': 1})"
      ]
     },
     "execution_count": 28,
     "metadata": {},
     "output_type": "execute_result"
    }
   ],
   "source": [
    "process([\"this is the first tweet\", \"this is the second tweet\", \"here is a cat\"])"
   ]
  },
  {
   "cell_type": "code",
   "execution_count": 29,
   "metadata": {},
   "outputs": [
    {
     "data": {
      "text/plain": [
       "Counter({'tweet': 1})"
      ]
     },
     "execution_count": 29,
     "metadata": {},
     "output_type": "execute_result"
    }
   ],
   "source": [
    "process_one_tweet(\"this is the first tweet\")"
   ]
  },
  {
   "cell_type": "code",
   "execution_count": 30,
   "metadata": {},
   "outputs": [],
   "source": [
    "from nltk.corpus import twitter_samples"
   ]
  },
  {
   "cell_type": "code",
   "execution_count": 31,
   "metadata": {},
   "outputs": [],
   "source": [
    "sample = twitter_samples.strings(\"tweets.20150430-223406.json\")"
   ]
  },
  {
   "cell_type": "code",
   "execution_count": 32,
   "metadata": {},
   "outputs": [
    {
     "data": {
      "text/plain": [
       "20000"
      ]
     },
     "execution_count": 32,
     "metadata": {},
     "output_type": "execute_result"
    }
   ],
   "source": [
    "len(sample)"
   ]
  },
  {
   "cell_type": "code",
   "execution_count": 33,
   "metadata": {},
   "outputs": [
    {
     "data": {
      "text/plain": [
       "[('rt', 102504),\n",
       " ('miliband', 30382),\n",
       " ('tory', 27074),\n",
       " ('snp', 14021),\n",
       " ('cameron', 12800),\n",
       " ('time', 9291),\n",
       " ('farage', 8185),\n",
       " ('labour', 6809),\n",
       " ('support', 6511),\n",
       " ('ed', 6392),\n",
       " ('david', 6358),\n",
       " ('leader', 6191),\n",
       " ('deal', 5255),\n",
       " ('clegg', 4738),\n",
       " ('poll', 4562),\n",
       " ('bbcqt', 4414),\n",
       " ('vote', 4309),\n",
       " ('question', 4260),\n",
       " ('w', 4239),\n",
       " ('work', 4236),\n",
       " ('tonight', 4013),\n",
       " ('people', 3888),\n",
       " ('ukip', 3836),\n",
       " ('scotland', 3314),\n",
       " ('ft', 3136),\n",
       " ('sturgeon', 3031),\n",
       " ('asknigelfarage', 2924),\n",
       " ('audience', 2868),\n",
       " ('lot', 2706),\n",
       " ('inequality', 2682),\n",
       " ('mp', 2643),\n",
       " ('milliband', 2496),\n",
       " ('party', 2370),\n",
       " ('yougov', 2299),\n",
       " ('government', 2294),\n",
       " ('lab', 2231),\n",
       " ('man', 2087),\n",
       " ('election', 2067),\n",
       " ('bbc', 2037),\n",
       " ('con', 1998),\n",
       " ('year', 1978),\n",
       " ('govt', 1869),\n",
       " ('tax', 1813),\n",
       " ('debate', 1757),\n",
       " ('pm', 1756),\n",
       " ('benefit', 1646),\n",
       " ('coalition', 1610),\n",
       " ('thing', 1536),\n",
       " ('voter', 1532),\n",
       " ('power', 1501)]"
      ]
     },
     "execution_count": 33,
     "metadata": {},
     "output_type": "execute_result"
    }
   ],
   "source": [
    "process(sample).most_common(50)"
   ]
  },
  {
   "cell_type": "markdown",
   "metadata": {},
   "source": [
    "# WORD CLOUD"
   ]
  },
  {
   "cell_type": "markdown",
   "metadata": {},
   "source": [
    "Documentation: https://amueller.github.io/word_cloud/"
   ]
  },
  {
   "cell_type": "code",
   "execution_count": 34,
   "metadata": {},
   "outputs": [
    {
     "name": "stdout",
     "output_type": "stream",
     "text": [
      "shell-init: error retrieving current directory: getcwd: cannot access parent directories: No such file or directory\n",
      "The folder you are executing pip from can no longer be found.\n",
      "shell-init: error retrieving current directory: getcwd: cannot access parent directories: No such file or directory\n",
      "The folder you are executing pip from can no longer be found.\n"
     ]
    }
   ],
   "source": [
    "!pip3 install pillow      # image reading\n",
    "!pip3 install wordcloud"
   ]
  },
  {
   "cell_type": "code",
   "execution_count": 35,
   "metadata": {},
   "outputs": [
    {
     "name": "stderr",
     "output_type": "stream",
     "text": [
      "ERROR:root:Internal Python error in the inspect module.\n",
      "Below is the traceback from this internal error.\n",
      "\n"
     ]
    },
    {
     "name": "stdout",
     "output_type": "stream",
     "text": [
      "Traceback (most recent call last):\n",
      "  File \"/Users/peiyuns/anaconda2/envs/python3/lib/python3.6/site-packages/IPython/core/interactiveshell.py\", line 2961, in run_code\n",
      "    exec(code_obj, self.user_global_ns, self.user_ns)\n",
      "  File \"<ipython-input-35-cdf8bad56533>\", line 3, in <module>\n",
      "    import pandas as pd\n",
      "  File \"/Users/peiyuns/anaconda2/envs/python3/lib/python3.6/site-packages/pandas/__init__.py\", line 42, in <module>\n",
      "    from pandas.core.api import *\n",
      "  File \"/Users/peiyuns/anaconda2/envs/python3/lib/python3.6/site-packages/pandas/core/api.py\", line 10, in <module>\n",
      "    from pandas.core.groupby.groupby import Grouper\n",
      "  File \"/Users/peiyuns/anaconda2/envs/python3/lib/python3.6/site-packages/pandas/core/groupby/__init__.py\", line 2, in <module>\n",
      "    from pandas.core.groupby.groupby import (\n",
      "  File \"/Users/peiyuns/anaconda2/envs/python3/lib/python3.6/site-packages/pandas/core/groupby/groupby.py\", line 49, in <module>\n",
      "    from pandas.core.frame import DataFrame\n",
      "  File \"/Users/peiyuns/anaconda2/envs/python3/lib/python3.6/site-packages/pandas/core/frame.py\", line 74, in <module>\n",
      "    from pandas.core.series import Series\n",
      "  File \"/Users/peiyuns/anaconda2/envs/python3/lib/python3.6/site-packages/pandas/core/series.py\", line 67, in <module>\n",
      "    import pandas.core.ops as ops\n",
      "AttributeError: module 'pandas' has no attribute 'core'\n",
      "\n",
      "During handling of the above exception, another exception occurred:\n",
      "\n",
      "Traceback (most recent call last):\n",
      "  File \"/Users/peiyuns/anaconda2/envs/python3/lib/python3.6/site-packages/IPython/core/interactiveshell.py\", line 1863, in showtraceback\n",
      "    stb = value._render_traceback_()\n",
      "AttributeError: 'AttributeError' object has no attribute '_render_traceback_'\n",
      "\n",
      "During handling of the above exception, another exception occurred:\n",
      "\n",
      "Traceback (most recent call last):\n",
      "  File \"/Users/peiyuns/anaconda2/envs/python3/lib/python3.6/site-packages/IPython/core/ultratb.py\", line 1095, in get_records\n",
      "    return _fixed_getinnerframes(etb, number_of_lines_of_context, tb_offset)\n",
      "  File \"/Users/peiyuns/anaconda2/envs/python3/lib/python3.6/site-packages/IPython/core/ultratb.py\", line 311, in wrapped\n",
      "    return f(*args, **kwargs)\n",
      "  File \"/Users/peiyuns/anaconda2/envs/python3/lib/python3.6/site-packages/IPython/core/ultratb.py\", line 345, in _fixed_getinnerframes\n",
      "    records = fix_frame_records_filenames(inspect.getinnerframes(etb, context))\n",
      "  File \"/Users/peiyuns/anaconda2/envs/python3/lib/python3.6/inspect.py\", line 1490, in getinnerframes\n",
      "    frameinfo = (tb.tb_frame,) + getframeinfo(tb, context)\n",
      "  File \"/Users/peiyuns/anaconda2/envs/python3/lib/python3.6/inspect.py\", line 1448, in getframeinfo\n",
      "    filename = getsourcefile(frame) or getfile(frame)\n",
      "  File \"/Users/peiyuns/anaconda2/envs/python3/lib/python3.6/inspect.py\", line 696, in getsourcefile\n",
      "    if getattr(getmodule(object, filename), '__loader__', None) is not None:\n",
      "  File \"/Users/peiyuns/anaconda2/envs/python3/lib/python3.6/inspect.py\", line 725, in getmodule\n",
      "    file = getabsfile(object, _filename)\n",
      "  File \"/Users/peiyuns/anaconda2/envs/python3/lib/python3.6/inspect.py\", line 709, in getabsfile\n",
      "    return os.path.normcase(os.path.abspath(_filename))\n",
      "  File \"/Users/peiyuns/anaconda2/envs/python3/lib/python3.6/posixpath.py\", line 383, in abspath\n",
      "    cwd = os.getcwd()\n",
      "FileNotFoundError: [Errno 2] No such file or directory\n"
     ]
    },
    {
     "ename": "AttributeError",
     "evalue": "module 'pandas' has no attribute 'core'",
     "output_type": "error",
     "traceback": [
      "\u001b[0;31m---------------------------------------------------------------------------\u001b[0m"
     ]
    }
   ],
   "source": [
    "# Start with loading all necessary libraries\n",
    "import numpy as np\n",
    "import pandas as pd\n",
    "from os import path\n",
    "from PIL import Image\n",
    "from wordcloud import WordCloud, STOPWORDS, ImageColorGenerator"
   ]
  },
  {
   "cell_type": "code",
   "execution_count": null,
   "metadata": {},
   "outputs": [],
   "source": [
    "import matplotlib.pyplot as plt\n",
    "% matplotlib inline"
   ]
  },
  {
   "cell_type": "code",
   "execution_count": null,
   "metadata": {},
   "outputs": [],
   "source": [
    "stopwords = set(STOPWORDS)\n",
    "stopwords.update([\"drink\", \"now\", \"wine\", \"flavor\", \"flavors\"])\n",
    "wordcloud = WordCloud(stopwords=stopwords, max_font_size=50, max_words=100, background_color=\"white\")\n",
    "cloud = wordcloud.generate_from_frequencies({\"have\": 20, \"take\": 3})"
   ]
  },
  {
   "cell_type": "code",
   "execution_count": null,
   "metadata": {},
   "outputs": [],
   "source": [
    "plt.imshow(cloud, interpolation='bilinear')\n",
    "plt.axis(\"off\")\n",
    "plt.show()"
   ]
  },
  {
   "cell_type": "code",
   "execution_count": null,
   "metadata": {},
   "outputs": [],
   "source": [
    "wordcloud.to_file(\"test.png\")"
   ]
  },
  {
   "cell_type": "code",
   "execution_count": null,
   "metadata": {},
   "outputs": [],
   "source": []
  }
 ],
 "metadata": {
  "kernelspec": {
   "display_name": "Python 3",
   "language": "python",
   "name": "python3"
  },
  "language_info": {
   "codemirror_mode": {
    "name": "ipython",
    "version": 3
   },
   "file_extension": ".py",
   "mimetype": "text/x-python",
   "name": "python",
   "nbconvert_exporter": "python",
   "pygments_lexer": "ipython3",
   "version": "3.6.8"
  }
 },
 "nbformat": 4,
 "nbformat_minor": 2
}
