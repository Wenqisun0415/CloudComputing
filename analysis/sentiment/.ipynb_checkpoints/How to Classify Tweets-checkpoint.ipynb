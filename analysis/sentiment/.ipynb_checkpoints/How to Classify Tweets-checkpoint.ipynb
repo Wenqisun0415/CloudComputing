{
 "cells": [
  {
   "cell_type": "code",
   "execution_count": 344,
   "metadata": {},
   "outputs": [
    {
     "name": "stderr",
     "output_type": "stream",
     "text": [
      "[nltk_data] Downloading package stopwords to\n",
      "[nltk_data]     /Users/peiyuns/nltk_data...\n",
      "[nltk_data]   Package stopwords is already up-to-date!\n"
     ]
    }
   ],
   "source": [
    "import pickle\n",
    "import nltk\n",
    "import re\n",
    "nltk.download(\"stopwords\")\n",
    "from nltk.corpus import stopwords\n",
    "from nltk.tokenize.casual import TweetTokenizer\n",
    "from nltk.stem import WordNetLemmatizer\n",
    "import emoji"
   ]
  },
  {
   "cell_type": "code",
   "execution_count": 345,
   "metadata": {},
   "outputs": [],
   "source": [
    "stop_words = set(stopwords.words('english'))\n",
    "lemmatizer = WordNetLemmatizer()"
   ]
  },
  {
   "cell_type": "code",
   "execution_count": 346,
   "metadata": {},
   "outputs": [],
   "source": [
    "# load in classifier and vectorizer\n",
    "logistic_clf = pickle.load(open(\"Logistic_{C0.1}_{l1}.pk1\", \"rb\"))  \n",
    "vec = pickle.load(open(\"DictVectorizer.pk1\", \"rb\"))"
   ]
  },
  {
   "cell_type": "code",
   "execution_count": 347,
   "metadata": {},
   "outputs": [],
   "source": [
    "frequent_symbols = [\":)\", \":(\", \":D\", \":-)\", \":p\", \";)\", \":/\", \"XD\"]"
   ]
  },
  {
   "cell_type": "code",
   "execution_count": 348,
   "metadata": {},
   "outputs": [],
   "source": [
    "# Get array of dictionary according to the list of tweets \n",
    "def get_dict(tweets):\n",
    "    dict_arr = []\n",
    "    for tweet in tweets:\n",
    "        tweet_dict = {}\n",
    "        for word in tweet:\n",
    "            if word in tweet_dict:\n",
    "                tweet_dict[word] += 1\n",
    "            else:\n",
    "                tweet_dict[word] = 1\n",
    "        dict_arr.append(tweet_dict)\n",
    "    return dict_arr"
   ]
  },
  {
   "cell_type": "code",
   "execution_count": 349,
   "metadata": {},
   "outputs": [],
   "source": [
    "def preprocess(tweets):\n",
    "    new_tweets = []\n",
    "    for tweet in tweets:\n",
    "        new_tweet = []\n",
    "        for word in tokenizer.tokenize(tweet):\n",
    "\n",
    "            # regular words\n",
    "            if not (word in stop_words or re.search(\"[^a-zA-Z]\",word)):  # if not stopwords and non-alphabetic\n",
    "                new_tweet.append(lemmatizer.lemmatize(word))\n",
    "            \n",
    "            # hashtags\n",
    "            elif word[0] == \"#\":  \n",
    "                hashtag = handle_hashtag(word)\n",
    "                if hashtag != -1:\n",
    "                    new_tweet.append(\"#\" + lemmatizer.lemmatize(hashtag))\n",
    "            \n",
    "            # symbols / emojis\n",
    "            elif word in frequent_symbols or word in emoji.UNICODE_EMOJI:\n",
    "                new_tweet.append(word)\n",
    "                \n",
    "        new_tweets.append(new_tweet)\n",
    "    \n",
    "    dict_arr = get_dict(new_tweets)\n",
    "    return (dict_arr)"
   ]
  },
  {
   "cell_type": "code",
   "execution_count": 350,
   "metadata": {},
   "outputs": [],
   "source": [
    "sent = \"it's a great tweet :-)\"\n",
    "sent2 = \"this is another tweet\""
   ]
  },
  {
   "cell_type": "code",
   "execution_count": 351,
   "metadata": {},
   "outputs": [],
   "source": [
    "# tokenizer will downcase everything except for emoticons\n",
    "tokenizer = TweetTokenizer(preserve_case=False)"
   ]
  },
  {
   "cell_type": "markdown",
   "metadata": {},
   "source": [
    "### Option 1: Classify one tweet at a time"
   ]
  },
  {
   "cell_type": "code",
   "execution_count": 352,
   "metadata": {
    "scrolled": true
   },
   "outputs": [],
   "source": [
    "tweet_dicts = preprocess([sent])"
   ]
  },
  {
   "cell_type": "code",
   "execution_count": 353,
   "metadata": {},
   "outputs": [],
   "source": [
    "X = vec.transform(tweet_dicts)"
   ]
  },
  {
   "cell_type": "code",
   "execution_count": 354,
   "metadata": {},
   "outputs": [
    {
     "data": {
      "text/plain": [
       "array([1])"
      ]
     },
     "execution_count": 354,
     "metadata": {},
     "output_type": "execute_result"
    }
   ],
   "source": [
    "logistic_clf.predict(X)  # 1 for positive, 0 for negative"
   ]
  },
  {
   "cell_type": "markdown",
   "metadata": {},
   "source": [
    "### Option 2: Classify multiple tweets at a time"
   ]
  },
  {
   "cell_type": "code",
   "execution_count": 355,
   "metadata": {},
   "outputs": [],
   "source": [
    "sents = [sent, sent2]"
   ]
  },
  {
   "cell_type": "code",
   "execution_count": 356,
   "metadata": {},
   "outputs": [],
   "source": [
    "tweet_dicts = preprocess(sents)"
   ]
  },
  {
   "cell_type": "code",
   "execution_count": 357,
   "metadata": {},
   "outputs": [],
   "source": [
    "X = vec.transform(tweet_dicts)"
   ]
  },
  {
   "cell_type": "code",
   "execution_count": 358,
   "metadata": {},
   "outputs": [
    {
     "data": {
      "text/plain": [
       "array([1, 0])"
      ]
     },
     "execution_count": 358,
     "metadata": {},
     "output_type": "execute_result"
    }
   ],
   "source": [
    "logistic_clf.predict(X)  # 1 for positive, 0 for negative"
   ]
  },
  {
   "cell_type": "code",
   "execution_count": 359,
   "metadata": {},
   "outputs": [
    {
     "data": {
      "text/plain": [
       "array([0, 1])"
      ]
     },
     "execution_count": 359,
     "metadata": {},
     "output_type": "execute_result"
    }
   ],
   "source": [
    "logistic_clf.classes_   # class order"
   ]
  },
  {
   "cell_type": "code",
   "execution_count": 360,
   "metadata": {},
   "outputs": [
    {
     "data": {
      "text/plain": [
       "array([[0.00900718, 0.99099282],\n",
       "       [0.88340501, 0.11659499]])"
      ]
     },
     "execution_count": 360,
     "metadata": {},
     "output_type": "execute_result"
    }
   ],
   "source": [
    "logistic_clf.predict_proba(X)    # probabilities: one instance per row, in each row: p(neg), p(neg)"
   ]
  },
  {
   "cell_type": "code",
   "execution_count": null,
   "metadata": {},
   "outputs": [],
   "source": []
  }
 ],
 "metadata": {
  "kernelspec": {
   "display_name": "Python 3",
   "language": "python",
   "name": "python3"
  },
  "language_info": {
   "codemirror_mode": {
    "name": "ipython",
    "version": 3
   },
   "file_extension": ".py",
   "mimetype": "text/x-python",
   "name": "python",
   "nbconvert_exporter": "python",
   "pygments_lexer": "ipython3",
   "version": "3.6.8"
  }
 },
 "nbformat": 4,
 "nbformat_minor": 2
}
