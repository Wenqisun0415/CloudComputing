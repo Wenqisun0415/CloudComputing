{
 "cells": [
  {
   "cell_type": "code",
   "execution_count": 11,
   "metadata": {},
   "outputs": [],
   "source": [
    "tweet = \"Senpy is awesome\"\n",
    "endpoint = 'http://senpy.gsi.upm.es/api'"
   ]
  },
  {
   "cell_type": "code",
   "execution_count": 24,
   "metadata": {},
   "outputs": [],
   "source": [
    "import json\n",
    "import requests\n",
    "res = requests.get(f'{endpoint}/emotion-depechemood',\n",
    "                   params={\"input\": tweet,})\n",
    "data = json.loads(res.text)"
   ]
  },
  {
   "cell_type": "code",
   "execution_count": 33,
   "metadata": {},
   "outputs": [
    {
     "data": {
      "text/plain": [
       "[{'@type': 'Emotion',\n",
       "  'onyx:hasEmotionCategory': 'wna:negative-fear',\n",
       "  'onyx:hasEmotionIntensity': 0.01665793004046174},\n",
       " {'@type': 'Emotion',\n",
       "  'onyx:hasEmotionCategory': 'wna:amusement',\n",
       "  'onyx:hasEmotionIntensity': 0.2481833723537774},\n",
       " {'@type': 'Emotion',\n",
       "  'onyx:hasEmotionCategory': 'wna:anger',\n",
       "  'onyx:hasEmotionIntensity': 0.05743820008844179},\n",
       " {'@type': 'Emotion',\n",
       "  'onyx:hasEmotionCategory': 'wna:annoyance',\n",
       "  'onyx:hasEmotionIntensity': 0.10276038603189884},\n",
       " {'@type': 'Emotion',\n",
       "  'onyx:hasEmotionCategory': 'wna:indifference',\n",
       "  'onyx:hasEmotionIntensity': 0.16609012431609985},\n",
       " {'@type': 'Emotion',\n",
       "  'onyx:hasEmotionCategory': 'wna:joy',\n",
       "  'onyx:hasEmotionIntensity': 0.16507921269659656},\n",
       " {'@type': 'Emotion',\n",
       "  'onyx:hasEmotionCategory': 'wna:awe',\n",
       "  'onyx:hasEmotionIntensity': 0.19683862750838904},\n",
       " {'@type': 'Emotion',\n",
       "  'onyx:hasEmotionCategory': 'wna:sadness',\n",
       "  'onyx:hasEmotionIntensity': 0.046952146964334786}]"
      ]
     },
     "execution_count": 33,
     "metadata": {},
     "output_type": "execute_result"
    }
   ],
   "source": [
    "data[\"entries\"][0][\"onyx:hasEmotionSet\"][0][\"onyx:hasEmotion\"]"
   ]
  },
  {
   "cell_type": "code",
   "execution_count": 34,
   "metadata": {},
   "outputs": [
    {
     "data": {
      "text/plain": [
       "0.05743820008844179"
      ]
     },
     "execution_count": 34,
     "metadata": {},
     "output_type": "execute_result"
    }
   ],
   "source": [
    "data[\"entries\"][0][\"onyx:hasEmotionSet\"][0][\"onyx:hasEmotion\"][2][\"onyx:hasEmotionIntensity\"]"
   ]
  },
  {
   "cell_type": "code",
   "execution_count": null,
   "metadata": {},
   "outputs": [],
   "source": []
  }
 ],
 "metadata": {
  "kernelspec": {
   "display_name": "Python 3",
   "language": "python",
   "name": "python3"
  },
  "language_info": {
   "codemirror_mode": {
    "name": "ipython",
    "version": 3
   },
   "file_extension": ".py",
   "mimetype": "text/x-python",
   "name": "python",
   "nbconvert_exporter": "python",
   "pygments_lexer": "ipython3",
   "version": "3.6.8"
  }
 },
 "nbformat": 4,
 "nbformat_minor": 2
}
