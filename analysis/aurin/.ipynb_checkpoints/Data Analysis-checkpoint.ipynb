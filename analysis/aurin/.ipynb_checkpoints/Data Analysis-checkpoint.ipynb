{
 "cells": [
  {
   "cell_type": "code",
   "execution_count": 532,
   "metadata": {},
   "outputs": [],
   "source": [
    "import pandas as pd\n",
    "import os\n",
    "import json\n",
    "import matplotlib.pyplot as plt"
   ]
  },
  {
   "cell_type": "code",
   "execution_count": 533,
   "metadata": {},
   "outputs": [],
   "source": [
    "# aurin\n",
    "with open(\"homeless.json\") as f:\n",
    "    homeless = json.load(f)\n",
    "    \n",
    "with open(\"child.json\") as f:\n",
    "    child = json.load(f)\n",
    "    \n",
    "with open(\"unemployment.json\") as f:\n",
    "    unemployment = json.load(f)\n",
    "    \n",
    "with open(\"satisfaction.json\") as f:\n",
    "    satisfaction = json.load(f)\n",
    "    \n",
    "with open(\"education.json\") as f:\n",
    "    education = json.load(f)\n",
    "    \n",
    "with open(\"hour.json\") as f: \n",
    "    hour = json.load(f)\n",
    "    \n",
    "with open(\"people.json\") as f:\n",
    "    people = json.load(f)\n",
    "    \n",
    "with open(\"median_income.json\") as f:\n",
    "    income = json.load(f)\n",
    "    \n",
    "with open(\"overtime_age.json\") as f:\n",
    "    overtime_age = json.load(f)\n",
    "    \n",
    "# # twitter\n",
    "# with open(\"../total_analy.json\", \"r\") as f:\n",
    "#     twitter_data = json.load(f)\n",
    "    \n",
    "with open(\"../textblob.json\", \"r\") as f:\n",
    "    twitter_data = json.load(f)[\"rows\"][3][\"doc\"]"
   ]
  },
  {
   "cell_type": "code",
   "execution_count": 534,
   "metadata": {},
   "outputs": [
    {
     "data": {
      "text/plain": [
       "dict_keys(['_id', '_rev', 'tweets_num', 'total_info', 'negative_tweets_num', 'negative_word_freq', 'negative_info'])"
      ]
     },
     "execution_count": 534,
     "metadata": {},
     "output_type": "execute_result"
    }
   ],
   "source": [
    "twitter_data.keys()"
   ]
  },
  {
   "cell_type": "code",
   "execution_count": 535,
   "metadata": {},
   "outputs": [],
   "source": [
    "# # read twitter_data\n",
    "# code_ls = twitter_data[\"total_info\"].keys()\n",
    "# records = []\n",
    "\n",
    "# for code in code_ls:\n",
    "#     record = {\"sa2_main16\": code,\n",
    "#               \"total_tweet\": twitter_data[\"total_info\"].get(code, 0),\n",
    "#               \"anger_tweet\": twitter_data[\"anger_info\"].get(code, 0),\n",
    "#               \"amusement_tweet\": twitter_data[\"amusement_info\"].get(code, 0),\n",
    "#               \"annoyance_tweet\": twitter_data[\"annoyance_info\"].get(code, 0),\n",
    "#               \"fear_tweet\": twitter_data[\"negative_fear_info\"].get(code, 0),\n",
    "#               \"indifference_tweet\": twitter_data[\"indifference_info\"].get(code, 0),\n",
    "#               \"joy_tweet\": twitter_data[\"joy_info\"].get(code, 0),\n",
    "#               \"awe_tweet\": twitter_data[\"awe_info\"].get(code, 0),\n",
    "#               \"sad_tweet\": twitter_data[\"sadness_info\"].get(code, 0)}\n",
    "#     records.append(record)\n",
    "\n",
    "# df1 = pd.DataFrame.from_records(records)"
   ]
  },
  {
   "cell_type": "code",
   "execution_count": 536,
   "metadata": {},
   "outputs": [],
   "source": [
    "# # read twitter_data with react\n",
    "# code_ls = twitter_data[\"total_info\"].keys()\n",
    "# records = []\n",
    "\n",
    "# for code in code_ls:\n",
    "#     record = {\"sa2_main16\": code,\n",
    "#               \"total_tweet\": twitter_data[\"total_info\"].get(code, 0),\n",
    "#               \"love_tweet\": twitter_data[\"love_info\"].get(code, 0),\n",
    "#               \"haha_tweet\": twitter_data[\"haha_info\"].get(code, 0),\n",
    "#               \"angry_tweet\": twitter_data[\"angry_info\"].get(code, 0),\n",
    "#               \"wow_tweet\": twitter_data[\"wow_info\"].get(code, 0),\n",
    "#               \"sad_tweet\": twitter_data[\"sad_info\"].get(code, 0)}\n",
    "#     records.append(record)\n",
    "\n",
    "# df1 = pd.DataFrame.from_records(records)"
   ]
  },
  {
   "cell_type": "code",
   "execution_count": 537,
   "metadata": {},
   "outputs": [],
   "source": [
    "# read twitter_data with react\n",
    "code_ls = twitter_data[\"total_info\"].keys()\n",
    "records = []\n",
    "\n",
    "for code in code_ls:\n",
    "    record = {\"sa2_main16\": code,\n",
    "              \"total_tweet\": twitter_data[\"total_info\"].get(code, 0),\n",
    "              \"negative_tweet\": twitter_data[\"negative_info\"].get(code, 0)}\n",
    "    records.append(record)\n",
    "\n",
    "df1 = pd.DataFrame.from_records(records)"
   ]
  },
  {
   "cell_type": "code",
   "execution_count": 538,
   "metadata": {
    "scrolled": true
   },
   "outputs": [],
   "source": [
    "# read aurin data\n",
    "df2 = pd.DataFrame.from_records(list(map(lambda x: x[\"properties\"], hour[\"features\"])))\n",
    "df3 = pd.DataFrame.from_records(list(map(lambda x: x[\"properties\"], homeless[\"features\"])))\n",
    "df4 = pd.DataFrame.from_records(list(map(lambda x: x[\"properties\"], unemployment[\"features\"])))\n",
    "df5 = pd.DataFrame.from_records(list(map(lambda x: x[\"properties\"], income1[\"features\"])))\n",
    "df52 = pd.DataFrame.from_records(list(map(lambda x: x[\"properties\"], income2[\"features\"])))\n",
    "df6 = pd.DataFrame.from_records(list(map(lambda x: x[\"properties\"], satisfaction[\"features\"])))\n",
    "df7 = pd.DataFrame.from_records(list(map(lambda x: x[\"properties\"], education[\"features\"])))\n",
    "df8 = pd.DataFrame.from_records(list(map(lambda x: x[\"properties\"], people[\"features\"])))\n",
    "df9 = pd.DataFrame.from_records(list(map(lambda x: x[\"properties\"], income[\"features\"])))\n",
    "df10 = pd.DataFrame.from_records(list(map(lambda x: x[\"properties\"], overtime_age[\"features\"])))"
   ]
  },
  {
   "cell_type": "code",
   "execution_count": null,
   "metadata": {},
   "outputs": [],
   "source": []
  },
  {
   "cell_type": "code",
   "execution_count": 539,
   "metadata": {},
   "outputs": [
    {
     "data": {
      "text/html": [
       "<div>\n",
       "<style scoped>\n",
       "    .dataframe tbody tr th:only-of-type {\n",
       "        vertical-align: middle;\n",
       "    }\n",
       "\n",
       "    .dataframe tbody tr th {\n",
       "        vertical-align: top;\n",
       "    }\n",
       "\n",
       "    .dataframe thead th {\n",
       "        text-align: right;\n",
       "    }\n",
       "</style>\n",
       "<table border=\"1\" class=\"dataframe\">\n",
       "  <thead>\n",
       "    <tr style=\"text-align: right;\">\n",
       "      <th></th>\n",
       "      <th>negative_tweet</th>\n",
       "      <th>sa2_main16</th>\n",
       "      <th>total_tweet</th>\n",
       "    </tr>\n",
       "  </thead>\n",
       "  <tbody>\n",
       "    <tr>\n",
       "      <th>0</th>\n",
       "      <td>23</td>\n",
       "      <td>208021177</td>\n",
       "      <td>544</td>\n",
       "    </tr>\n",
       "    <tr>\n",
       "      <th>1</th>\n",
       "      <td>3232</td>\n",
       "      <td>206041122</td>\n",
       "      <td>48587</td>\n",
       "    </tr>\n",
       "    <tr>\n",
       "      <th>2</th>\n",
       "      <td>102</td>\n",
       "      <td>209021428</td>\n",
       "      <td>1217</td>\n",
       "    </tr>\n",
       "    <tr>\n",
       "      <th>3</th>\n",
       "      <td>161</td>\n",
       "      <td>206071141</td>\n",
       "      <td>1952</td>\n",
       "    </tr>\n",
       "    <tr>\n",
       "      <th>4</th>\n",
       "      <td>25</td>\n",
       "      <td>210031438</td>\n",
       "      <td>146</td>\n",
       "    </tr>\n",
       "  </tbody>\n",
       "</table>\n",
       "</div>"
      ],
      "text/plain": [
       "   negative_tweet sa2_main16  total_tweet\n",
       "0              23  208021177          544\n",
       "1            3232  206041122        48587\n",
       "2             102  209021428         1217\n",
       "3             161  206071141         1952\n",
       "4              25  210031438          146"
      ]
     },
     "execution_count": 539,
     "metadata": {},
     "output_type": "execute_result"
    }
   ],
   "source": [
    "df1.head()"
   ]
  },
  {
   "cell_type": "code",
   "execution_count": 540,
   "metadata": {},
   "outputs": [],
   "source": [
    "# df1[\"wrath_rate(%)\"] = (df1[\"anger_tweet\"] + df1[\"annoyance_tweet\"])/ df1[\"total_tweet\"]*100\n",
    "# filtered_df1 = df1.loc[:, [\"sa2_main16\", \"wrath_rate(%)\"]]"
   ]
  },
  {
   "cell_type": "code",
   "execution_count": 541,
   "metadata": {},
   "outputs": [],
   "source": [
    "df1[\"wrath_rate(%)\"] = df1[\"negative_tweet\"] / df1[\"total_tweet\"]*100\n",
    "filtered_df1 = df1.loc[:, [\"sa2_main16\", \"wrath_rate(%)\"]]"
   ]
  },
  {
   "cell_type": "code",
   "execution_count": 542,
   "metadata": {},
   "outputs": [
    {
     "data": {
      "text/html": [
       "<div>\n",
       "<style scoped>\n",
       "    .dataframe tbody tr th:only-of-type {\n",
       "        vertical-align: middle;\n",
       "    }\n",
       "\n",
       "    .dataframe tbody tr th {\n",
       "        vertical-align: top;\n",
       "    }\n",
       "\n",
       "    .dataframe thead th {\n",
       "        text-align: right;\n",
       "    }\n",
       "</style>\n",
       "<table border=\"1\" class=\"dataframe\">\n",
       "  <thead>\n",
       "    <tr style=\"text-align: right;\">\n",
       "      <th></th>\n",
       "      <th>sa2_main16</th>\n",
       "      <th>wrath_rate(%)</th>\n",
       "    </tr>\n",
       "  </thead>\n",
       "  <tbody>\n",
       "    <tr>\n",
       "      <th>0</th>\n",
       "      <td>208021177</td>\n",
       "      <td>4.227941</td>\n",
       "    </tr>\n",
       "    <tr>\n",
       "      <th>1</th>\n",
       "      <td>206041122</td>\n",
       "      <td>6.651985</td>\n",
       "    </tr>\n",
       "    <tr>\n",
       "      <th>2</th>\n",
       "      <td>209021428</td>\n",
       "      <td>8.381265</td>\n",
       "    </tr>\n",
       "    <tr>\n",
       "      <th>3</th>\n",
       "      <td>206071141</td>\n",
       "      <td>8.247951</td>\n",
       "    </tr>\n",
       "    <tr>\n",
       "      <th>4</th>\n",
       "      <td>210031438</td>\n",
       "      <td>17.123288</td>\n",
       "    </tr>\n",
       "  </tbody>\n",
       "</table>\n",
       "</div>"
      ],
      "text/plain": [
       "  sa2_main16  wrath_rate(%)\n",
       "0  208021177       4.227941\n",
       "1  206041122       6.651985\n",
       "2  209021428       8.381265\n",
       "3  206071141       8.247951\n",
       "4  210031438      17.123288"
      ]
     },
     "execution_count": 542,
     "metadata": {},
     "output_type": "execute_result"
    }
   ],
   "source": [
    "filtered_df1.head()"
   ]
  },
  {
   "cell_type": "code",
   "execution_count": 543,
   "metadata": {},
   "outputs": [
    {
     "data": {
      "text/html": [
       "<div>\n",
       "<style scoped>\n",
       "    .dataframe tbody tr th:only-of-type {\n",
       "        vertical-align: middle;\n",
       "    }\n",
       "\n",
       "    .dataframe tbody tr th {\n",
       "        vertical-align: top;\n",
       "    }\n",
       "\n",
       "    .dataframe thead th {\n",
       "        text-align: right;\n",
       "    }\n",
       "</style>\n",
       "<table border=\"1\" class=\"dataframe\">\n",
       "  <thead>\n",
       "    <tr style=\"text-align: right;\">\n",
       "      <th></th>\n",
       "      <th>sa2_main16</th>\n",
       "      <th>work_overtime(%)</th>\n",
       "    </tr>\n",
       "  </thead>\n",
       "  <tbody>\n",
       "    <tr>\n",
       "      <th>0</th>\n",
       "      <td>213051466</td>\n",
       "      <td>21.008403</td>\n",
       "    </tr>\n",
       "    <tr>\n",
       "      <th>1</th>\n",
       "      <td>206061136</td>\n",
       "      <td>34.802665</td>\n",
       "    </tr>\n",
       "    <tr>\n",
       "      <th>2</th>\n",
       "      <td>206071141</td>\n",
       "      <td>32.650790</td>\n",
       "    </tr>\n",
       "    <tr>\n",
       "      <th>3</th>\n",
       "      <td>210031440</td>\n",
       "      <td>20.995025</td>\n",
       "    </tr>\n",
       "    <tr>\n",
       "      <th>4</th>\n",
       "      <td>210041240</td>\n",
       "      <td>23.914851</td>\n",
       "    </tr>\n",
       "  </tbody>\n",
       "</table>\n",
       "</div>"
      ],
      "text/plain": [
       "  sa2_main16  work_overtime(%)\n",
       "0  213051466         21.008403\n",
       "1  206061136         34.802665\n",
       "2  206071141         32.650790\n",
       "3  210031440         20.995025\n",
       "4  210041240         23.914851"
      ]
     },
     "execution_count": 543,
     "metadata": {},
     "output_type": "execute_result"
    }
   ],
   "source": [
    "df2[\"work_overtime(%)\"] = (df2[\"p_tot_41_48\"] + df2[\"p_tot_49over\"]) / (df2[\"p_tot_tot\"] - df2[\"p_tot_hours_ns\"] - df2[\"p_tot_0\"])*100\n",
    "filtered_df2 = df2.loc[:,[\"sa2_main16\", \"work_overtime(%)\"]]\n",
    "filtered_df2.head()"
   ]
  },
  {
   "cell_type": "code",
   "execution_count": 544,
   "metadata": {},
   "outputs": [
    {
     "data": {
      "text/html": [
       "<div>\n",
       "<style scoped>\n",
       "    .dataframe tbody tr th:only-of-type {\n",
       "        vertical-align: middle;\n",
       "    }\n",
       "\n",
       "    .dataframe tbody tr th {\n",
       "        vertical-align: top;\n",
       "    }\n",
       "\n",
       "    .dataframe thead th {\n",
       "        text-align: right;\n",
       "    }\n",
       "</style>\n",
       "<table border=\"1\" class=\"dataframe\">\n",
       "  <thead>\n",
       "    <tr style=\"text-align: right;\">\n",
       "      <th></th>\n",
       "      <th>hl_p_homeless_tot</th>\n",
       "      <th>sa2_main16</th>\n",
       "    </tr>\n",
       "  </thead>\n",
       "  <tbody>\n",
       "    <tr>\n",
       "      <th>0</th>\n",
       "      <td>223</td>\n",
       "      <td>206071142</td>\n",
       "    </tr>\n",
       "    <tr>\n",
       "      <th>1</th>\n",
       "      <td>100</td>\n",
       "      <td>212031302</td>\n",
       "    </tr>\n",
       "    <tr>\n",
       "      <th>2</th>\n",
       "      <td>73</td>\n",
       "      <td>206061136</td>\n",
       "    </tr>\n",
       "    <tr>\n",
       "      <th>3</th>\n",
       "      <td>95</td>\n",
       "      <td>206071141</td>\n",
       "    </tr>\n",
       "    <tr>\n",
       "      <th>4</th>\n",
       "      <td>49</td>\n",
       "      <td>210031440</td>\n",
       "    </tr>\n",
       "  </tbody>\n",
       "</table>\n",
       "</div>"
      ],
      "text/plain": [
       "   hl_p_homeless_tot sa2_main16\n",
       "0                223  206071142\n",
       "1                100  212031302\n",
       "2                 73  206061136\n",
       "3                 95  206071141\n",
       "4                 49  210031440"
      ]
     },
     "execution_count": 544,
     "metadata": {},
     "output_type": "execute_result"
    }
   ],
   "source": [
    "df3.head()  # no need to handle"
   ]
  },
  {
   "cell_type": "code",
   "execution_count": 545,
   "metadata": {},
   "outputs": [
    {
     "data": {
      "text/html": [
       "<div>\n",
       "<style scoped>\n",
       "    .dataframe tbody tr th:only-of-type {\n",
       "        vertical-align: middle;\n",
       "    }\n",
       "\n",
       "    .dataframe tbody tr th {\n",
       "        vertical-align: top;\n",
       "    }\n",
       "\n",
       "    .dataframe thead th {\n",
       "        text-align: right;\n",
       "    }\n",
       "</style>\n",
       "<table border=\"1\" class=\"dataframe\">\n",
       "  <thead>\n",
       "    <tr style=\"text-align: right;\">\n",
       "      <th></th>\n",
       "      <th>sa2_main16</th>\n",
       "      <th>unemp_rate(%)</th>\n",
       "    </tr>\n",
       "  </thead>\n",
       "  <tbody>\n",
       "    <tr>\n",
       "      <th>0</th>\n",
       "      <td>206061136</td>\n",
       "      <td>3.246608</td>\n",
       "    </tr>\n",
       "    <tr>\n",
       "      <th>1</th>\n",
       "      <td>206071141</td>\n",
       "      <td>4.735932</td>\n",
       "    </tr>\n",
       "    <tr>\n",
       "      <th>2</th>\n",
       "      <td>210031440</td>\n",
       "      <td>4.063797</td>\n",
       "    </tr>\n",
       "    <tr>\n",
       "      <th>3</th>\n",
       "      <td>210041240</td>\n",
       "      <td>4.152841</td>\n",
       "    </tr>\n",
       "    <tr>\n",
       "      <th>4</th>\n",
       "      <td>210041241</td>\n",
       "      <td>4.004550</td>\n",
       "    </tr>\n",
       "  </tbody>\n",
       "</table>\n",
       "</div>"
      ],
      "text/plain": [
       "  sa2_main16  unemp_rate(%)\n",
       "0  206061136       3.246608\n",
       "1  206071141       4.735932\n",
       "2  210031440       4.063797\n",
       "3  210041240       4.152841\n",
       "4  210041241       4.004550"
      ]
     },
     "execution_count": 545,
     "metadata": {},
     "output_type": "execute_result"
    }
   ],
   "source": [
    "df4[\"unemp_rate(%)\"] = df4[\"p_tot_unemp_total\"]/df4[\"p_tot_tot\"]*100\n",
    "filtered_df4 = df4.loc[:,[\"sa2_main16\", \"unemp_rate(%)\"]]\n",
    "filtered_df4.head()"
   ]
  },
  {
   "cell_type": "code",
   "execution_count": 546,
   "metadata": {},
   "outputs": [],
   "source": [
    "# Weekly income\n",
    "df5 = df5.merge(df52)"
   ]
  },
  {
   "cell_type": "code",
   "execution_count": 547,
   "metadata": {},
   "outputs": [
    {
     "data": {
      "text/html": [
       "<div>\n",
       "<style scoped>\n",
       "    .dataframe tbody tr th:only-of-type {\n",
       "        vertical-align: middle;\n",
       "    }\n",
       "\n",
       "    .dataframe tbody tr th {\n",
       "        vertical-align: top;\n",
       "    }\n",
       "\n",
       "    .dataframe thead th {\n",
       "        text-align: right;\n",
       "    }\n",
       "</style>\n",
       "<table border=\"1\" class=\"dataframe\">\n",
       "  <thead>\n",
       "    <tr style=\"text-align: right;\">\n",
       "      <th></th>\n",
       "      <th>sa2_main16</th>\n",
       "      <th>tot_1000_1249_tot</th>\n",
       "      <th>tot_1250_1499_tot</th>\n",
       "      <th>tot_1500_1749_tot</th>\n",
       "      <th>tot_150_299_tot</th>\n",
       "      <th>tot_1_149_tot</th>\n",
       "      <th>tot_300_399_tot</th>\n",
       "      <th>tot_400_499_tot</th>\n",
       "      <th>tot_500_649_tot</th>\n",
       "      <th>tot_650_799_tot</th>\n",
       "      <th>tot_800_999_tot</th>\n",
       "      <th>tot_1750_1999_tot</th>\n",
       "      <th>tot_2000_2999_tot</th>\n",
       "      <th>tot_3000mo_tot</th>\n",
       "      <th>tot_pins_tot</th>\n",
       "      <th>tot_tot_tot</th>\n",
       "    </tr>\n",
       "  </thead>\n",
       "  <tbody>\n",
       "    <tr>\n",
       "      <th>0</th>\n",
       "      <td>206061136</td>\n",
       "      <td>1388</td>\n",
       "      <td>1018</td>\n",
       "      <td>853</td>\n",
       "      <td>447</td>\n",
       "      <td>271</td>\n",
       "      <td>562</td>\n",
       "      <td>577</td>\n",
       "      <td>844</td>\n",
       "      <td>1047</td>\n",
       "      <td>1330</td>\n",
       "      <td>512</td>\n",
       "      <td>638</td>\n",
       "      <td>521</td>\n",
       "      <td>133</td>\n",
       "      <td>10219</td>\n",
       "    </tr>\n",
       "    <tr>\n",
       "      <th>1</th>\n",
       "      <td>206071141</td>\n",
       "      <td>1670</td>\n",
       "      <td>1339</td>\n",
       "      <td>1087</td>\n",
       "      <td>373</td>\n",
       "      <td>174</td>\n",
       "      <td>395</td>\n",
       "      <td>499</td>\n",
       "      <td>730</td>\n",
       "      <td>1078</td>\n",
       "      <td>1477</td>\n",
       "      <td>719</td>\n",
       "      <td>1088</td>\n",
       "      <td>742</td>\n",
       "      <td>173</td>\n",
       "      <td>11592</td>\n",
       "    </tr>\n",
       "    <tr>\n",
       "      <th>2</th>\n",
       "      <td>210031440</td>\n",
       "      <td>172</td>\n",
       "      <td>131</td>\n",
       "      <td>93</td>\n",
       "      <td>58</td>\n",
       "      <td>40</td>\n",
       "      <td>47</td>\n",
       "      <td>57</td>\n",
       "      <td>81</td>\n",
       "      <td>92</td>\n",
       "      <td>105</td>\n",
       "      <td>79</td>\n",
       "      <td>64</td>\n",
       "      <td>8</td>\n",
       "      <td>25</td>\n",
       "      <td>1055</td>\n",
       "    </tr>\n",
       "    <tr>\n",
       "      <th>3</th>\n",
       "      <td>210041241</td>\n",
       "      <td>685</td>\n",
       "      <td>410</td>\n",
       "      <td>314</td>\n",
       "      <td>469</td>\n",
       "      <td>569</td>\n",
       "      <td>440</td>\n",
       "      <td>488</td>\n",
       "      <td>705</td>\n",
       "      <td>720</td>\n",
       "      <td>757</td>\n",
       "      <td>198</td>\n",
       "      <td>211</td>\n",
       "      <td>115</td>\n",
       "      <td>111</td>\n",
       "      <td>6243</td>\n",
       "    </tr>\n",
       "    <tr>\n",
       "      <th>4</th>\n",
       "      <td>210041240</td>\n",
       "      <td>237</td>\n",
       "      <td>150</td>\n",
       "      <td>129</td>\n",
       "      <td>85</td>\n",
       "      <td>64</td>\n",
       "      <td>75</td>\n",
       "      <td>108</td>\n",
       "      <td>152</td>\n",
       "      <td>158</td>\n",
       "      <td>196</td>\n",
       "      <td>83</td>\n",
       "      <td>84</td>\n",
       "      <td>26</td>\n",
       "      <td>28</td>\n",
       "      <td>1587</td>\n",
       "    </tr>\n",
       "  </tbody>\n",
       "</table>\n",
       "</div>"
      ],
      "text/plain": [
       "  sa2_main16  tot_1000_1249_tot  tot_1250_1499_tot  tot_1500_1749_tot  \\\n",
       "0  206061136               1388               1018                853   \n",
       "1  206071141               1670               1339               1087   \n",
       "2  210031440                172                131                 93   \n",
       "3  210041241                685                410                314   \n",
       "4  210041240                237                150                129   \n",
       "\n",
       "   tot_150_299_tot  tot_1_149_tot  tot_300_399_tot  tot_400_499_tot  \\\n",
       "0              447            271              562              577   \n",
       "1              373            174              395              499   \n",
       "2               58             40               47               57   \n",
       "3              469            569              440              488   \n",
       "4               85             64               75              108   \n",
       "\n",
       "   tot_500_649_tot  tot_650_799_tot  tot_800_999_tot  tot_1750_1999_tot  \\\n",
       "0              844             1047             1330                512   \n",
       "1              730             1078             1477                719   \n",
       "2               81               92              105                 79   \n",
       "3              705              720              757                198   \n",
       "4              152              158              196                 83   \n",
       "\n",
       "   tot_2000_2999_tot  tot_3000mo_tot  tot_pins_tot  tot_tot_tot  \n",
       "0                638             521           133        10219  \n",
       "1               1088             742           173        11592  \n",
       "2                 64               8            25         1055  \n",
       "3                211             115           111         6243  \n",
       "4                 84              26            28         1587  "
      ]
     },
     "execution_count": 547,
     "metadata": {},
     "output_type": "execute_result"
    }
   ],
   "source": [
    "df5.head()"
   ]
  },
  {
   "cell_type": "code",
   "execution_count": null,
   "metadata": {},
   "outputs": [],
   "source": []
  },
  {
   "cell_type": "code",
   "execution_count": 548,
   "metadata": {},
   "outputs": [
    {
     "data": {
      "text/html": [
       "<div>\n",
       "<style scoped>\n",
       "    .dataframe tbody tr th:only-of-type {\n",
       "        vertical-align: middle;\n",
       "    }\n",
       "\n",
       "    .dataframe tbody tr th {\n",
       "        vertical-align: top;\n",
       "    }\n",
       "\n",
       "    .dataframe thead th {\n",
       "        text-align: right;\n",
       "    }\n",
       "</style>\n",
       "<table border=\"1\" class=\"dataframe\">\n",
       "  <thead>\n",
       "    <tr style=\"text-align: right;\">\n",
       "      <th></th>\n",
       "      <th>sa2_main16</th>\n",
       "      <th>high_satisfaction_rate(%)</th>\n",
       "    </tr>\n",
       "  </thead>\n",
       "  <tbody>\n",
       "    <tr>\n",
       "      <th>0</th>\n",
       "      <td>206061136</td>\n",
       "      <td>64.7118</td>\n",
       "    </tr>\n",
       "    <tr>\n",
       "      <th>1</th>\n",
       "      <td>206071141</td>\n",
       "      <td>61.3216</td>\n",
       "    </tr>\n",
       "    <tr>\n",
       "      <th>2</th>\n",
       "      <td>210031440</td>\n",
       "      <td>62.3543</td>\n",
       "    </tr>\n",
       "    <tr>\n",
       "      <th>3</th>\n",
       "      <td>210041240</td>\n",
       "      <td>66.8407</td>\n",
       "    </tr>\n",
       "    <tr>\n",
       "      <th>4</th>\n",
       "      <td>210041241</td>\n",
       "      <td>65.1980</td>\n",
       "    </tr>\n",
       "  </tbody>\n",
       "</table>\n",
       "</div>"
      ],
      "text/plain": [
       "  sa2_main16  high_satisfaction_rate(%)\n",
       "0  206061136                    64.7118\n",
       "1  206071141                    61.3216\n",
       "2  210031440                    62.3543\n",
       "3  210041240                    66.8407\n",
       "4  210041241                    65.1980"
      ]
     },
     "execution_count": 548,
     "metadata": {},
     "output_type": "execute_result"
    }
   ],
   "source": [
    "df6[\"sa2_main16\"] = df6[\"sa2_code16\"]\n",
    "df6[\"high_satisfaction_rate(%)\"] = df6[\"life_satisfaction_pc_80_to_100_synth\"]*100\n",
    "filtered_df6 = df6.loc[:,[\"sa2_main16\", \"high_satisfaction_rate(%)\"]]\n",
    "filtered_df6.head()"
   ]
  },
  {
   "cell_type": "code",
   "execution_count": 549,
   "metadata": {},
   "outputs": [
    {
     "data": {
      "text/html": [
       "<div>\n",
       "<style scoped>\n",
       "    .dataframe tbody tr th:only-of-type {\n",
       "        vertical-align: middle;\n",
       "    }\n",
       "\n",
       "    .dataframe tbody tr th {\n",
       "        vertical-align: top;\n",
       "    }\n",
       "\n",
       "    .dataframe thead th {\n",
       "        text-align: right;\n",
       "    }\n",
       "</style>\n",
       "<table border=\"1\" class=\"dataframe\">\n",
       "  <thead>\n",
       "    <tr style=\"text-align: right;\">\n",
       "      <th></th>\n",
       "      <th>sa2_main16</th>\n",
       "      <th>complete_y12_rate(%)</th>\n",
       "    </tr>\n",
       "  </thead>\n",
       "  <tbody>\n",
       "    <tr>\n",
       "      <th>0</th>\n",
       "      <td>206061136</td>\n",
       "      <td>74.319796</td>\n",
       "    </tr>\n",
       "    <tr>\n",
       "      <th>1</th>\n",
       "      <td>206071141</td>\n",
       "      <td>70.348837</td>\n",
       "    </tr>\n",
       "    <tr>\n",
       "      <th>2</th>\n",
       "      <td>210031440</td>\n",
       "      <td>47.283474</td>\n",
       "    </tr>\n",
       "    <tr>\n",
       "      <th>3</th>\n",
       "      <td>210041241</td>\n",
       "      <td>49.113220</td>\n",
       "    </tr>\n",
       "    <tr>\n",
       "      <th>4</th>\n",
       "      <td>210041240</td>\n",
       "      <td>49.388493</td>\n",
       "    </tr>\n",
       "  </tbody>\n",
       "</table>\n",
       "</div>"
      ],
      "text/plain": [
       "  sa2_main16  complete_y12_rate(%)\n",
       "0  206061136             74.319796\n",
       "1  206071141             70.348837\n",
       "2  210031440             47.283474\n",
       "3  210041241             49.113220\n",
       "4  210041240             49.388493"
      ]
     },
     "execution_count": 549,
     "metadata": {},
     "output_type": "execute_result"
    }
   ],
   "source": [
    "df7[\"complete_y12_rate(%)\"] = df7[\"p_y12e_tot\"]/(df7[\"m_tot_tot\"] + df7[\"f_tot_tot\"])*100\n",
    "filtered_df7 = df7.loc[:,[\"sa2_main16\", \"complete_y12_rate(%)\"]]\n",
    "filtered_df7.head()"
   ]
  },
  {
   "cell_type": "code",
   "execution_count": 550,
   "metadata": {},
   "outputs": [
    {
     "data": {
      "text/html": [
       "<div>\n",
       "<style scoped>\n",
       "    .dataframe tbody tr th:only-of-type {\n",
       "        vertical-align: middle;\n",
       "    }\n",
       "\n",
       "    .dataframe tbody tr th {\n",
       "        vertical-align: top;\n",
       "    }\n",
       "\n",
       "    .dataframe thead th {\n",
       "        text-align: right;\n",
       "    }\n",
       "</style>\n",
       "<table border=\"1\" class=\"dataframe\">\n",
       "  <thead>\n",
       "    <tr style=\"text-align: right;\">\n",
       "      <th></th>\n",
       "      <th>sa2_main16</th>\n",
       "      <th>death_rate(%)</th>\n",
       "      <th>population</th>\n",
       "      <th>median_age</th>\n",
       "    </tr>\n",
       "  </thead>\n",
       "  <tbody>\n",
       "    <tr>\n",
       "      <th>0</th>\n",
       "      <td>206061136</td>\n",
       "      <td>5.7</td>\n",
       "      <td>21275.0</td>\n",
       "      <td>33.2</td>\n",
       "    </tr>\n",
       "    <tr>\n",
       "      <th>1</th>\n",
       "      <td>210031440</td>\n",
       "      <td>3.9</td>\n",
       "      <td>5911.0</td>\n",
       "      <td>38.2</td>\n",
       "    </tr>\n",
       "    <tr>\n",
       "      <th>2</th>\n",
       "      <td>210041240</td>\n",
       "      <td>5.3</td>\n",
       "      <td>13238.0</td>\n",
       "      <td>38.1</td>\n",
       "    </tr>\n",
       "    <tr>\n",
       "      <th>3</th>\n",
       "      <td>208021180</td>\n",
       "      <td>4.9</td>\n",
       "      <td>8038.0</td>\n",
       "      <td>35.0</td>\n",
       "    </tr>\n",
       "    <tr>\n",
       "      <th>4</th>\n",
       "      <td>213051466</td>\n",
       "      <td>NaN</td>\n",
       "      <td>15147.0</td>\n",
       "      <td>31.5</td>\n",
       "    </tr>\n",
       "  </tbody>\n",
       "</table>\n",
       "</div>"
      ],
      "text/plain": [
       "  sa2_main16  death_rate(%)  population  median_age\n",
       "0  206061136            5.7     21275.0        33.2\n",
       "1  210031440            3.9      5911.0        38.2\n",
       "2  210041240            5.3     13238.0        38.1\n",
       "3  208021180            4.9      8038.0        35.0\n",
       "4  213051466            NaN     15147.0        31.5"
      ]
     },
     "execution_count": 550,
     "metadata": {},
     "output_type": "execute_result"
    }
   ],
   "source": [
    "df8_renamed = df8.rename(columns={\"births_dth_births_p_num\": \"birth_num\", \n",
    "                                  \"births_dth_dth_p_num\": \"death_num\", \n",
    "                                  \"births_dth_stnd_death_rt_per_1000_pop_p_rate\": \"death_rate(%)\", \n",
    "                                  \"births_dth_tot_fert_rt_per_f_p_rate\": \"fertility_rate(%)\",\n",
    "                                  \"est_res_pop_med_age_usual_res_erp_30_jun_p_yrs\": \"median_age\",\n",
    "                                  \"est_res_pop_p_tot_num\": \"population\",\n",
    "                                  \"est_res_pop_p_wrking_age_pop_15_64_yrs_pr100\": \"working_age_rate(%)\",\n",
    "                                  \"sa2_code16\": \"sa2_main16\"})\n",
    "\n",
    "filtered_df8 = df8_renamed.loc[:,[\"sa2_main16\", \"death_rate(%)\", \"population\", \"median_age\"]]\n",
    "filtered_df8.head()"
   ]
  },
  {
   "cell_type": "code",
   "execution_count": 551,
   "metadata": {},
   "outputs": [
    {
     "data": {
      "text/html": [
       "<div>\n",
       "<style scoped>\n",
       "    .dataframe tbody tr th:only-of-type {\n",
       "        vertical-align: middle;\n",
       "    }\n",
       "\n",
       "    .dataframe tbody tr th {\n",
       "        vertical-align: top;\n",
       "    }\n",
       "\n",
       "    .dataframe thead th {\n",
       "        text-align: right;\n",
       "    }\n",
       "</style>\n",
       "<table border=\"1\" class=\"dataframe\">\n",
       "  <thead>\n",
       "    <tr style=\"text-align: right;\">\n",
       "      <th></th>\n",
       "      <th>median_aud_2014_15</th>\n",
       "      <th>sa2_main16</th>\n",
       "    </tr>\n",
       "  </thead>\n",
       "  <tbody>\n",
       "    <tr>\n",
       "      <th>0</th>\n",
       "      <td>NaN</td>\n",
       "      <td>208031192</td>\n",
       "    </tr>\n",
       "    <tr>\n",
       "      <th>1</th>\n",
       "      <td>112.0</td>\n",
       "      <td>209011197</td>\n",
       "    </tr>\n",
       "    <tr>\n",
       "      <th>2</th>\n",
       "      <td>166.0</td>\n",
       "      <td>206061136</td>\n",
       "    </tr>\n",
       "    <tr>\n",
       "      <th>3</th>\n",
       "      <td>108.0</td>\n",
       "      <td>206071141</td>\n",
       "    </tr>\n",
       "    <tr>\n",
       "      <th>4</th>\n",
       "      <td>173.0</td>\n",
       "      <td>210031440</td>\n",
       "    </tr>\n",
       "  </tbody>\n",
       "</table>\n",
       "</div>"
      ],
      "text/plain": [
       "   median_aud_2014_15 sa2_main16\n",
       "0                 NaN  208031192\n",
       "1               112.0  209011197\n",
       "2               166.0  206061136\n",
       "3               108.0  206071141\n",
       "4               173.0  210031440"
      ]
     },
     "execution_count": 551,
     "metadata": {},
     "output_type": "execute_result"
    }
   ],
   "source": [
    "df9 = df9.rename(columns={\"sa2_code_2016\":\"sa2_main16\"})\n",
    "df9.head()"
   ]
  },
  {
   "cell_type": "code",
   "execution_count": 552,
   "metadata": {},
   "outputs": [
    {
     "data": {
      "text/html": [
       "<div>\n",
       "<style scoped>\n",
       "    .dataframe tbody tr th:only-of-type {\n",
       "        vertical-align: middle;\n",
       "    }\n",
       "\n",
       "    .dataframe tbody tr th {\n",
       "        vertical-align: top;\n",
       "    }\n",
       "\n",
       "    .dataframe thead th {\n",
       "        text-align: right;\n",
       "    }\n",
       "</style>\n",
       "<table border=\"1\" class=\"dataframe\">\n",
       "  <thead>\n",
       "    <tr style=\"text-align: right;\">\n",
       "      <th></th>\n",
       "      <th>p_tot_0</th>\n",
       "      <th>p_tot_16_24</th>\n",
       "      <th>p_tot_1_15</th>\n",
       "      <th>p_tot_25_34</th>\n",
       "      <th>p_tot_35_39</th>\n",
       "      <th>p_tot_40</th>\n",
       "      <th>p_tot_41_48</th>\n",
       "      <th>p_tot_49over</th>\n",
       "      <th>p_tot_hours_ns</th>\n",
       "      <th>p_tot_tot</th>\n",
       "      <th>sa2_main16</th>\n",
       "    </tr>\n",
       "  </thead>\n",
       "  <tbody>\n",
       "    <tr>\n",
       "      <th>0</th>\n",
       "      <td>211</td>\n",
       "      <td>507</td>\n",
       "      <td>548</td>\n",
       "      <td>615</td>\n",
       "      <td>1611</td>\n",
       "      <td>1885</td>\n",
       "      <td>594</td>\n",
       "      <td>781</td>\n",
       "      <td>124</td>\n",
       "      <td>6880</td>\n",
       "      <td>213051466</td>\n",
       "    </tr>\n",
       "    <tr>\n",
       "      <th>1</th>\n",
       "      <td>317</td>\n",
       "      <td>958</td>\n",
       "      <td>887</td>\n",
       "      <td>962</td>\n",
       "      <td>2095</td>\n",
       "      <td>2730</td>\n",
       "      <td>1575</td>\n",
       "      <td>2499</td>\n",
       "      <td>134</td>\n",
       "      <td>12157</td>\n",
       "      <td>206061136</td>\n",
       "    </tr>\n",
       "    <tr>\n",
       "      <th>2</th>\n",
       "      <td>151</td>\n",
       "      <td>370</td>\n",
       "      <td>354</td>\n",
       "      <td>451</td>\n",
       "      <td>785</td>\n",
       "      <td>1064</td>\n",
       "      <td>594</td>\n",
       "      <td>873</td>\n",
       "      <td>67</td>\n",
       "      <td>4711</td>\n",
       "      <td>206071141</td>\n",
       "    </tr>\n",
       "    <tr>\n",
       "      <th>3</th>\n",
       "      <td>62</td>\n",
       "      <td>230</td>\n",
       "      <td>216</td>\n",
       "      <td>230</td>\n",
       "      <td>496</td>\n",
       "      <td>404</td>\n",
       "      <td>210</td>\n",
       "      <td>212</td>\n",
       "      <td>64</td>\n",
       "      <td>2136</td>\n",
       "      <td>210031440</td>\n",
       "    </tr>\n",
       "    <tr>\n",
       "      <th>4</th>\n",
       "      <td>196</td>\n",
       "      <td>691</td>\n",
       "      <td>768</td>\n",
       "      <td>748</td>\n",
       "      <td>1156</td>\n",
       "      <td>1214</td>\n",
       "      <td>568</td>\n",
       "      <td>870</td>\n",
       "      <td>85</td>\n",
       "      <td>6294</td>\n",
       "      <td>210041240</td>\n",
       "    </tr>\n",
       "  </tbody>\n",
       "</table>\n",
       "</div>"
      ],
      "text/plain": [
       "   p_tot_0  p_tot_16_24  p_tot_1_15  p_tot_25_34  p_tot_35_39  p_tot_40  \\\n",
       "0      211          507         548          615         1611      1885   \n",
       "1      317          958         887          962         2095      2730   \n",
       "2      151          370         354          451          785      1064   \n",
       "3       62          230         216          230          496       404   \n",
       "4      196          691         768          748         1156      1214   \n",
       "\n",
       "   p_tot_41_48  p_tot_49over  p_tot_hours_ns  p_tot_tot sa2_main16  \n",
       "0          594           781             124       6880  213051466  \n",
       "1         1575          2499             134      12157  206061136  \n",
       "2          594           873              67       4711  206071141  \n",
       "3          210           212              64       2136  210031440  \n",
       "4          568           870              85       6294  210041240  "
      ]
     },
     "execution_count": 552,
     "metadata": {},
     "output_type": "execute_result"
    }
   ],
   "source": [
    "df10.head()"
   ]
  },
  {
   "cell_type": "code",
   "execution_count": 553,
   "metadata": {},
   "outputs": [
    {
     "name": "stdout",
     "output_type": "stream",
     "text": [
      "303\n",
      "309\n",
      "309\n",
      "309\n",
      "309\n",
      "309\n",
      "309\n"
     ]
    }
   ],
   "source": [
    "print(len(df1))\n",
    "print(len(df3))\n",
    "print(len(filtered_df4))\n",
    "print(len(filtered_df6))\n",
    "print(len(filtered_df7))\n",
    "print(len(filtered_df8))\n",
    "print(len(df9))"
   ]
  },
  {
   "cell_type": "code",
   "execution_count": 554,
   "metadata": {},
   "outputs": [],
   "source": [
    "combined_df = filtered_df1.merge(filtered_df2).merge(df3).merge(filtered_df4).merge(filtered_df6).merge(filtered_df7).merge(filtered_df8).merge(df9)"
   ]
  },
  {
   "cell_type": "code",
   "execution_count": 555,
   "metadata": {},
   "outputs": [
    {
     "data": {
      "text/html": [
       "<div>\n",
       "<style scoped>\n",
       "    .dataframe tbody tr th:only-of-type {\n",
       "        vertical-align: middle;\n",
       "    }\n",
       "\n",
       "    .dataframe tbody tr th {\n",
       "        vertical-align: top;\n",
       "    }\n",
       "\n",
       "    .dataframe thead th {\n",
       "        text-align: right;\n",
       "    }\n",
       "</style>\n",
       "<table border=\"1\" class=\"dataframe\">\n",
       "  <thead>\n",
       "    <tr style=\"text-align: right;\">\n",
       "      <th></th>\n",
       "      <th>sa2_main16</th>\n",
       "      <th>wrath_rate(%)</th>\n",
       "      <th>work_overtime(%)</th>\n",
       "      <th>hl_p_homeless_tot</th>\n",
       "      <th>unemp_rate(%)</th>\n",
       "      <th>high_satisfaction_rate(%)</th>\n",
       "      <th>complete_y12_rate(%)</th>\n",
       "      <th>death_rate(%)</th>\n",
       "      <th>population</th>\n",
       "      <th>median_age</th>\n",
       "      <th>median_aud_2014_15</th>\n",
       "    </tr>\n",
       "  </thead>\n",
       "  <tbody>\n",
       "    <tr>\n",
       "      <th>0</th>\n",
       "      <td>208021177</td>\n",
       "      <td>4.227941</td>\n",
       "      <td>28.198272</td>\n",
       "      <td>51</td>\n",
       "      <td>3.500507</td>\n",
       "      <td>66.8942</td>\n",
       "      <td>78.709476</td>\n",
       "      <td>4.2</td>\n",
       "      <td>22288.0</td>\n",
       "      <td>34.4</td>\n",
       "      <td>219.0</td>\n",
       "    </tr>\n",
       "    <tr>\n",
       "      <th>1</th>\n",
       "      <td>206041122</td>\n",
       "      <td>6.651985</td>\n",
       "      <td>18.947785</td>\n",
       "      <td>928</td>\n",
       "      <td>6.225177</td>\n",
       "      <td>NaN</td>\n",
       "      <td>69.105325</td>\n",
       "      <td>2.4</td>\n",
       "      <td>40181.0</td>\n",
       "      <td>26.2</td>\n",
       "      <td>130.0</td>\n",
       "    </tr>\n",
       "    <tr>\n",
       "      <th>2</th>\n",
       "      <td>209021428</td>\n",
       "      <td>8.381265</td>\n",
       "      <td>21.054965</td>\n",
       "      <td>143</td>\n",
       "      <td>4.835647</td>\n",
       "      <td>59.5230</td>\n",
       "      <td>63.116359</td>\n",
       "      <td>5.6</td>\n",
       "      <td>21192.0</td>\n",
       "      <td>35.5</td>\n",
       "      <td>95.0</td>\n",
       "    </tr>\n",
       "    <tr>\n",
       "      <th>3</th>\n",
       "      <td>206071141</td>\n",
       "      <td>8.247951</td>\n",
       "      <td>32.650790</td>\n",
       "      <td>95</td>\n",
       "      <td>4.735932</td>\n",
       "      <td>61.3216</td>\n",
       "      <td>70.348837</td>\n",
       "      <td>6.8</td>\n",
       "      <td>9235.0</td>\n",
       "      <td>32.1</td>\n",
       "      <td>108.0</td>\n",
       "    </tr>\n",
       "    <tr>\n",
       "      <th>4</th>\n",
       "      <td>210031438</td>\n",
       "      <td>17.123288</td>\n",
       "      <td>18.986906</td>\n",
       "      <td>116</td>\n",
       "      <td>4.993372</td>\n",
       "      <td>59.5235</td>\n",
       "      <td>56.197167</td>\n",
       "      <td>7.2</td>\n",
       "      <td>23153.0</td>\n",
       "      <td>33.9</td>\n",
       "      <td>131.0</td>\n",
       "    </tr>\n",
       "  </tbody>\n",
       "</table>\n",
       "</div>"
      ],
      "text/plain": [
       "  sa2_main16  wrath_rate(%)  work_overtime(%)  hl_p_homeless_tot  \\\n",
       "0  208021177       4.227941         28.198272                 51   \n",
       "1  206041122       6.651985         18.947785                928   \n",
       "2  209021428       8.381265         21.054965                143   \n",
       "3  206071141       8.247951         32.650790                 95   \n",
       "4  210031438      17.123288         18.986906                116   \n",
       "\n",
       "   unemp_rate(%)  high_satisfaction_rate(%)  complete_y12_rate(%)  \\\n",
       "0       3.500507                    66.8942             78.709476   \n",
       "1       6.225177                        NaN             69.105325   \n",
       "2       4.835647                    59.5230             63.116359   \n",
       "3       4.735932                    61.3216             70.348837   \n",
       "4       4.993372                    59.5235             56.197167   \n",
       "\n",
       "   death_rate(%)  population  median_age  median_aud_2014_15  \n",
       "0            4.2     22288.0        34.4               219.0  \n",
       "1            2.4     40181.0        26.2               130.0  \n",
       "2            5.6     21192.0        35.5                95.0  \n",
       "3            6.8      9235.0        32.1               108.0  \n",
       "4            7.2     23153.0        33.9               131.0  "
      ]
     },
     "execution_count": 555,
     "metadata": {},
     "output_type": "execute_result"
    }
   ],
   "source": [
    "combined_df.head()"
   ]
  },
  {
   "cell_type": "code",
   "execution_count": 556,
   "metadata": {},
   "outputs": [
    {
     "data": {
      "text/html": [
       "<div>\n",
       "<style scoped>\n",
       "    .dataframe tbody tr th:only-of-type {\n",
       "        vertical-align: middle;\n",
       "    }\n",
       "\n",
       "    .dataframe tbody tr th {\n",
       "        vertical-align: top;\n",
       "    }\n",
       "\n",
       "    .dataframe thead th {\n",
       "        text-align: right;\n",
       "    }\n",
       "</style>\n",
       "<table border=\"1\" class=\"dataframe\">\n",
       "  <thead>\n",
       "    <tr style=\"text-align: right;\">\n",
       "      <th></th>\n",
       "      <th>wrath_rate(%)</th>\n",
       "      <th>work_overtime(%)</th>\n",
       "      <th>hl_p_homeless_tot</th>\n",
       "      <th>unemp_rate(%)</th>\n",
       "      <th>high_satisfaction_rate(%)</th>\n",
       "      <th>complete_y12_rate(%)</th>\n",
       "      <th>death_rate(%)</th>\n",
       "      <th>population</th>\n",
       "      <th>median_age</th>\n",
       "      <th>median_aud_2014_15</th>\n",
       "    </tr>\n",
       "  </thead>\n",
       "  <tbody>\n",
       "    <tr>\n",
       "      <th>wrath_rate(%)</th>\n",
       "      <td>1.000000</td>\n",
       "      <td>0.005857</td>\n",
       "      <td>-0.082961</td>\n",
       "      <td>-0.087900</td>\n",
       "      <td>-0.015032</td>\n",
       "      <td>-0.026641</td>\n",
       "      <td>-0.054050</td>\n",
       "      <td>-0.102697</td>\n",
       "      <td>0.066460</td>\n",
       "      <td>-0.108806</td>\n",
       "    </tr>\n",
       "    <tr>\n",
       "      <th>work_overtime(%)</th>\n",
       "      <td>0.005857</td>\n",
       "      <td>1.000000</td>\n",
       "      <td>-0.232962</td>\n",
       "      <td>-0.664834</td>\n",
       "      <td>0.654362</td>\n",
       "      <td>0.364884</td>\n",
       "      <td>-0.291200</td>\n",
       "      <td>-0.129715</td>\n",
       "      <td>0.271997</td>\n",
       "      <td>0.572791</td>\n",
       "    </tr>\n",
       "    <tr>\n",
       "      <th>hl_p_homeless_tot</th>\n",
       "      <td>-0.082961</td>\n",
       "      <td>-0.232962</td>\n",
       "      <td>1.000000</td>\n",
       "      <td>0.485935</td>\n",
       "      <td>-0.412340</td>\n",
       "      <td>0.033400</td>\n",
       "      <td>0.172101</td>\n",
       "      <td>0.500758</td>\n",
       "      <td>-0.368765</td>\n",
       "      <td>-0.123940</td>\n",
       "    </tr>\n",
       "    <tr>\n",
       "      <th>unemp_rate(%)</th>\n",
       "      <td>-0.087900</td>\n",
       "      <td>-0.664834</td>\n",
       "      <td>0.485935</td>\n",
       "      <td>1.000000</td>\n",
       "      <td>-0.775926</td>\n",
       "      <td>0.018806</td>\n",
       "      <td>0.345498</td>\n",
       "      <td>0.295907</td>\n",
       "      <td>-0.540607</td>\n",
       "      <td>-0.437905</td>\n",
       "    </tr>\n",
       "    <tr>\n",
       "      <th>high_satisfaction_rate(%)</th>\n",
       "      <td>-0.015032</td>\n",
       "      <td>0.654362</td>\n",
       "      <td>-0.412340</td>\n",
       "      <td>-0.775926</td>\n",
       "      <td>1.000000</td>\n",
       "      <td>-0.046455</td>\n",
       "      <td>-0.211555</td>\n",
       "      <td>-0.157897</td>\n",
       "      <td>0.527618</td>\n",
       "      <td>0.382747</td>\n",
       "    </tr>\n",
       "    <tr>\n",
       "      <th>complete_y12_rate(%)</th>\n",
       "      <td>-0.026641</td>\n",
       "      <td>0.364884</td>\n",
       "      <td>0.033400</td>\n",
       "      <td>0.018806</td>\n",
       "      <td>-0.046455</td>\n",
       "      <td>1.000000</td>\n",
       "      <td>-0.356410</td>\n",
       "      <td>0.149349</td>\n",
       "      <td>-0.017940</td>\n",
       "      <td>0.424510</td>\n",
       "    </tr>\n",
       "    <tr>\n",
       "      <th>death_rate(%)</th>\n",
       "      <td>-0.054050</td>\n",
       "      <td>-0.291200</td>\n",
       "      <td>0.172101</td>\n",
       "      <td>0.345498</td>\n",
       "      <td>-0.211555</td>\n",
       "      <td>-0.356410</td>\n",
       "      <td>1.000000</td>\n",
       "      <td>-0.010869</td>\n",
       "      <td>-0.232848</td>\n",
       "      <td>-0.290597</td>\n",
       "    </tr>\n",
       "    <tr>\n",
       "      <th>population</th>\n",
       "      <td>-0.102697</td>\n",
       "      <td>-0.129715</td>\n",
       "      <td>0.500758</td>\n",
       "      <td>0.295907</td>\n",
       "      <td>-0.157897</td>\n",
       "      <td>0.149349</td>\n",
       "      <td>-0.010869</td>\n",
       "      <td>1.000000</td>\n",
       "      <td>-0.137519</td>\n",
       "      <td>0.001836</td>\n",
       "    </tr>\n",
       "    <tr>\n",
       "      <th>median_age</th>\n",
       "      <td>0.066460</td>\n",
       "      <td>0.271997</td>\n",
       "      <td>-0.368765</td>\n",
       "      <td>-0.540607</td>\n",
       "      <td>0.527618</td>\n",
       "      <td>-0.017940</td>\n",
       "      <td>-0.232848</td>\n",
       "      <td>-0.137519</td>\n",
       "      <td>1.000000</td>\n",
       "      <td>0.427666</td>\n",
       "    </tr>\n",
       "    <tr>\n",
       "      <th>median_aud_2014_15</th>\n",
       "      <td>-0.108806</td>\n",
       "      <td>0.572791</td>\n",
       "      <td>-0.123940</td>\n",
       "      <td>-0.437905</td>\n",
       "      <td>0.382747</td>\n",
       "      <td>0.424510</td>\n",
       "      <td>-0.290597</td>\n",
       "      <td>0.001836</td>\n",
       "      <td>0.427666</td>\n",
       "      <td>1.000000</td>\n",
       "    </tr>\n",
       "  </tbody>\n",
       "</table>\n",
       "</div>"
      ],
      "text/plain": [
       "                           wrath_rate(%)  work_overtime(%)  hl_p_homeless_tot  \\\n",
       "wrath_rate(%)                   1.000000          0.005857          -0.082961   \n",
       "work_overtime(%)                0.005857          1.000000          -0.232962   \n",
       "hl_p_homeless_tot              -0.082961         -0.232962           1.000000   \n",
       "unemp_rate(%)                  -0.087900         -0.664834           0.485935   \n",
       "high_satisfaction_rate(%)      -0.015032          0.654362          -0.412340   \n",
       "complete_y12_rate(%)           -0.026641          0.364884           0.033400   \n",
       "death_rate(%)                  -0.054050         -0.291200           0.172101   \n",
       "population                     -0.102697         -0.129715           0.500758   \n",
       "median_age                      0.066460          0.271997          -0.368765   \n",
       "median_aud_2014_15             -0.108806          0.572791          -0.123940   \n",
       "\n",
       "                           unemp_rate(%)  high_satisfaction_rate(%)  \\\n",
       "wrath_rate(%)                  -0.087900                  -0.015032   \n",
       "work_overtime(%)               -0.664834                   0.654362   \n",
       "hl_p_homeless_tot               0.485935                  -0.412340   \n",
       "unemp_rate(%)                   1.000000                  -0.775926   \n",
       "high_satisfaction_rate(%)      -0.775926                   1.000000   \n",
       "complete_y12_rate(%)            0.018806                  -0.046455   \n",
       "death_rate(%)                   0.345498                  -0.211555   \n",
       "population                      0.295907                  -0.157897   \n",
       "median_age                     -0.540607                   0.527618   \n",
       "median_aud_2014_15             -0.437905                   0.382747   \n",
       "\n",
       "                           complete_y12_rate(%)  death_rate(%)  population  \\\n",
       "wrath_rate(%)                         -0.026641      -0.054050   -0.102697   \n",
       "work_overtime(%)                       0.364884      -0.291200   -0.129715   \n",
       "hl_p_homeless_tot                      0.033400       0.172101    0.500758   \n",
       "unemp_rate(%)                          0.018806       0.345498    0.295907   \n",
       "high_satisfaction_rate(%)             -0.046455      -0.211555   -0.157897   \n",
       "complete_y12_rate(%)                   1.000000      -0.356410    0.149349   \n",
       "death_rate(%)                         -0.356410       1.000000   -0.010869   \n",
       "population                             0.149349      -0.010869    1.000000   \n",
       "median_age                            -0.017940      -0.232848   -0.137519   \n",
       "median_aud_2014_15                     0.424510      -0.290597    0.001836   \n",
       "\n",
       "                           median_age  median_aud_2014_15  \n",
       "wrath_rate(%)                0.066460           -0.108806  \n",
       "work_overtime(%)             0.271997            0.572791  \n",
       "hl_p_homeless_tot           -0.368765           -0.123940  \n",
       "unemp_rate(%)               -0.540607           -0.437905  \n",
       "high_satisfaction_rate(%)    0.527618            0.382747  \n",
       "complete_y12_rate(%)        -0.017940            0.424510  \n",
       "death_rate(%)               -0.232848           -0.290597  \n",
       "population                  -0.137519            0.001836  \n",
       "median_age                   1.000000            0.427666  \n",
       "median_aud_2014_15           0.427666            1.000000  "
      ]
     },
     "execution_count": 556,
     "metadata": {},
     "output_type": "execute_result"
    }
   ],
   "source": [
    "combined_df.corr()"
   ]
  },
  {
   "cell_type": "code",
   "execution_count": 557,
   "metadata": {},
   "outputs": [
    {
     "data": {
      "text/plain": [
       "work_overtime(%)             0.005857\n",
       "hl_p_homeless_tot           -0.082961\n",
       "unemp_rate(%)               -0.087900\n",
       "high_satisfaction_rate(%)   -0.015032\n",
       "complete_y12_rate(%)        -0.026641\n",
       "death_rate(%)               -0.054050\n",
       "population                  -0.102697\n",
       "median_age                   0.066460\n",
       "median_aud_2014_15          -0.108806\n",
       "Name: wrath_rate(%), dtype: float64"
      ]
     },
     "execution_count": 557,
     "metadata": {},
     "output_type": "execute_result"
    }
   ],
   "source": [
    "combined_df.corr().iloc[0, 1:]"
   ]
  },
  {
   "cell_type": "code",
   "execution_count": 558,
   "metadata": {},
   "outputs": [
    {
     "data": {
      "text/plain": [
       "0.03339963133787969"
      ]
     },
     "execution_count": 558,
     "metadata": {},
     "output_type": "execute_result"
    }
   ],
   "source": [
    "combined_df[\"hl_p_homeless_tot\"].corr(combined_df[\"complete_y12_rate(%)\"], method=\"pearson\")"
   ]
  },
  {
   "cell_type": "code",
   "execution_count": 563,
   "metadata": {
    "scrolled": true
   },
   "outputs": [
    {
     "data": {
      "text/plain": [
       "Text(0, 0.5, 'wrath_rate')"
      ]
     },
     "execution_count": 563,
     "metadata": {},
     "output_type": "execute_result"
    },
    {
     "data": {
      "image/png": "[encoded data removed]",
      "text/plain": [
       "<Figure size 432x288 with 1 Axes>"
      ]
     },
     "metadata": {},
     "output_type": "display_data"
    }
   ],
   "source": [
    "plt.scatter(combined_df[\"median_aud_2014_15\"],\n",
    "            combined_df[\"wrath_rate(%)\"])\n",
    "plt.xlabel('income')\n",
    "plt.ylabel('wrath_rate')"
   ]
  },
  {
   "cell_type": "code",
   "execution_count": 560,
   "metadata": {},
   "outputs": [
    {
     "ename": "NameError",
     "evalue": "name 'data' is not defined",
     "output_type": "error",
     "traceback": [
      "\u001b[0;31m---------------------------------------------------------------------------\u001b[0m",
      "\u001b[0;31mNameError\u001b[0m                                 Traceback (most recent call last)",
      "\u001b[0;32m<ipython-input-560-a1f9c0bfb631>\u001b[0m in \u001b[0;36m<module>\u001b[0;34m()\u001b[0m\n\u001b[0;32m----> 1\u001b[0;31m \u001b[0mdf1\u001b[0m \u001b[0;34m=\u001b[0m \u001b[0mpd\u001b[0m\u001b[0;34m.\u001b[0m\u001b[0mDataFrame\u001b[0m\u001b[0;34m.\u001b[0m\u001b[0mfrom_dict\u001b[0m\u001b[0;34m(\u001b[0m\u001b[0mdata\u001b[0m\u001b[0;34m[\u001b[0m\u001b[0;34m\"polygon_info\"\u001b[0m\u001b[0;34m]\u001b[0m\u001b[0;34m,\u001b[0m \u001b[0morient\u001b[0m\u001b[0;34m=\u001b[0m\u001b[0;34m\"index\"\u001b[0m\u001b[0;34m,\u001b[0m \u001b[0mcolumns\u001b[0m \u001b[0;34m=\u001b[0m \u001b[0;34m[\u001b[0m\u001b[0;34m\"wrath tweet\"\u001b[0m\u001b[0;34m]\u001b[0m\u001b[0;34m)\u001b[0m\u001b[0;34m\u001b[0m\u001b[0;34m\u001b[0m\u001b[0m\n\u001b[0m",
      "\u001b[0;31mNameError\u001b[0m: name 'data' is not defined"
     ]
    }
   ],
   "source": [
    "df1 = pd.DataFrame.from_dict(data[\"polygon_info\"], orient=\"index\", columns = [\"wrath tweet\"])"
   ]
  },
  {
   "cell_type": "code",
   "execution_count": null,
   "metadata": {},
   "outputs": [],
   "source": [
    "df1.head()"
   ]
  },
  {
   "cell_type": "code",
   "execution_count": null,
   "metadata": {},
   "outputs": [],
   "source": [
    "data2.keys()"
   ]
  },
  {
   "cell_type": "code",
   "execution_count": null,
   "metadata": {},
   "outputs": [],
   "source": [
    "code_ls = data2[\"total_info\"].keys()\n",
    "records = []\n",
    "\n",
    "for code in code_ls:\n",
    "    record = {\"sa2_main16\": code,\n",
    "              \"total_tweet\": data2[\"total_info\"].get(code, 0),\n",
    "              \"anger_tweet\": data2[\"anger_info\"].get(code, 0),\n",
    "              \"amusement_tweet\": data2[\"amusement_info\"].get(code, 0),\n",
    "              \"fear_tweet\": data2[\"negative_fear_info\"].get(code, 0),\n",
    "              \"indifference_tweet\": data2[\"indifference_info\"].get(code, 0),\n",
    "              \"joy_tweet\": data2[\"joy_info\"].get(code, 0),\n",
    "              \"awe_tweet\": data2[\"awe_info\"].get(code, 0),\n",
    "              \"sad_tweet\": data2[\"sadness_info\"].get(code, 0)}\n",
    "    records.append(record)\n",
    "\n",
    "df9 = pd.DataFrame.from_records(records)"
   ]
  },
  {
   "cell_type": "code",
   "execution_count": null,
   "metadata": {},
   "outputs": [],
   "source": [
    "df9"
   ]
  },
  {
   "cell_type": "code",
   "execution_count": null,
   "metadata": {},
   "outputs": [],
   "source": [
    "df2[\"angry_rate(%)\"] = df2[\"angry_tweet\"]/df2[\"total_tweet\"]*100"
   ]
  },
  {
   "cell_type": "code",
   "execution_count": null,
   "metadata": {},
   "outputs": [],
   "source": [
    "df2.head()"
   ]
  },
  {
   "cell_type": "code",
   "execution_count": null,
   "metadata": {},
   "outputs": [],
   "source": [
    "# combined_df = filtered_df1.merge(df3).merge(filtered_df4).merge(filtered_df7)"
   ]
  },
  {
   "cell_type": "code",
   "execution_count": null,
   "metadata": {},
   "outputs": [],
   "source": []
  },
  {
   "cell_type": "code",
   "execution_count": null,
   "metadata": {},
   "outputs": [],
   "source": []
  },
  {
   "cell_type": "markdown",
   "metadata": {},
   "source": [
    "# OUTPUT FOR PIE-CHART"
   ]
  },
  {
   "cell_type": "code",
   "execution_count": null,
   "metadata": {},
   "outputs": [],
   "source": [
    "pie_dict = {}\n",
    "region_dict = {\"Melbourne\": \"206041122\",\n",
    "               \"Docklands\": \"206041118\",\n",
    "               \"Southbank\": \"206041126\",\n",
    "               \"East Melbourne\": \"206041119\",\n",
    "               \"Kensington\": \"206041121\"}\n",
    "\n",
    "for region, code in region_dict.items():\n",
    "    pie_dict[region] = {\"total_tweet\": data2[\"total_info\"][code],\n",
    "                      \"anger_tweet\": data2[\"anger_info\"][code],\n",
    "                      \"amusement_tweet\": data2[\"amusement_info\"][code],\n",
    "                      \"fear_tweet\": data2[\"negative_fear_info\"][code],\n",
    "                      \"indifference_tweet\": data2[\"indifference_info\"][code],\n",
    "                      \"joy_tweet\": data2[\"joy_info\"][code],\n",
    "                      \"awe_tweet\": data2[\"awe_info\"][code],\n",
    "                      \"sad_tweet\": data2[\"sadness_info\"][code]}"
   ]
  },
  {
   "cell_type": "code",
   "execution_count": null,
   "metadata": {},
   "outputs": [],
   "source": [
    "with open(\"pie_chart.json\", \"w\") as f:\n",
    "    json.dump(pie_dict, f)"
   ]
  },
  {
   "cell_type": "code",
   "execution_count": null,
   "metadata": {
    "scrolled": true
   },
   "outputs": [],
   "source": [
    "pie_dict"
   ]
  },
  {
   "cell_type": "code",
   "execution_count": null,
   "metadata": {},
   "outputs": [],
   "source": []
  },
  {
   "cell_type": "code",
   "execution_count": null,
   "metadata": {},
   "outputs": [],
   "source": []
  },
  {
   "cell_type": "code",
   "execution_count": null,
   "metadata": {},
   "outputs": [],
   "source": [
    "records = []\n",
    "for region, info_dict in pie_dict.items():\n",
    "    info_dict[\"sa2_main16\"] = region_dict[]\n",
    "    record.append(info_dict[\"sa2_main16\"] = )"
   ]
  },
  {
   "cell_type": "code",
   "execution_count": null,
   "metadata": {},
   "outputs": [],
   "source": [
    "gender[\"features\"][0][\"properties\"]  # record sample"
   ]
  },
  {
   "cell_type": "markdown",
   "metadata": {},
   "source": [
    "# PCA and Linear Regression"
   ]
  },
  {
   "cell_type": "code",
   "execution_count": 264,
   "metadata": {},
   "outputs": [],
   "source": [
    "from sklearn.decomposition import PCA\n",
    "from sklearn.linear_model import LinearRegression\n",
    "from sklearn.metrics import mean_squared_error, r2_score"
   ]
  },
  {
   "cell_type": "code",
   "execution_count": 203,
   "metadata": {},
   "outputs": [],
   "source": [
    "pca = PCA(n_components=3)"
   ]
  },
  {
   "cell_type": "code",
   "execution_count": 259,
   "metadata": {},
   "outputs": [],
   "source": [
    "df = combined_df.dropna()\n",
    "X = df.loc[:,\"work_overtime(%)\": \"median_age\"].values\n",
    "pca.fit(X)\n",
    "X = pca.transform(X)\n",
    "y = df[\"wrath_rate(%)\"].values"
   ]
  },
  {
   "cell_type": "code",
   "execution_count": 260,
   "metadata": {},
   "outputs": [
    {
     "name": "stdout",
     "output_type": "stream",
     "text": [
      "265\n",
      "265\n"
     ]
    }
   ],
   "source": [
    "print(len(X))\n",
    "print(len(y))"
   ]
  },
  {
   "cell_type": "code",
   "execution_count": 261,
   "metadata": {},
   "outputs": [],
   "source": [
    "model = LinearRegression()"
   ]
  },
  {
   "cell_type": "code",
   "execution_count": 262,
   "metadata": {},
   "outputs": [
    {
     "data": {
      "text/plain": [
       "LinearRegression(copy_X=True, fit_intercept=True, n_jobs=None,\n",
       "         normalize=False)"
      ]
     },
     "execution_count": 262,
     "metadata": {},
     "output_type": "execute_result"
    }
   ],
   "source": [
    "model.fit(X, y)"
   ]
  },
  {
   "cell_type": "code",
   "execution_count": 268,
   "metadata": {},
   "outputs": [
    {
     "data": {
      "text/plain": [
       "0.03227730873195844"
      ]
     },
     "execution_count": 268,
     "metadata": {},
     "output_type": "execute_result"
    }
   ],
   "source": [
    "model.score(X, y)"
   ]
  },
  {
   "cell_type": "code",
   "execution_count": 271,
   "metadata": {},
   "outputs": [
    {
     "name": "stdout",
     "output_type": "stream",
     "text": [
      "Coefficients: \n",
      " [-6.64647164e-05 -3.08465021e-04  8.78006992e-02]\n",
      "Mean squared error: 31.85\n",
      "Variance score: -28.98\n"
     ]
    }
   ],
   "source": [
    "# The coefficients\n",
    "print('Coefficients: \\n', model.coef_)\n",
    "# The mean squared error\n",
    "print(\"Mean squared error: %.2f\" % mean_squared_error(model.predict(X), y))\n",
    "# Explained variance score: 1 is perfect prediction\n",
    "print('Variance score: %.2f' % r2_score(model.predict(X), y))"
   ]
  },
  {
   "cell_type": "code",
   "execution_count": null,
   "metadata": {},
   "outputs": [],
   "source": [
    "# # Plot outputs\n",
    "# plt.scatter(diabetes_X_test, diabetes_y_test,  color='black')\n",
    "# plt.plot(diabetes_X_test, diabetes_y_pred, color='blue', linewidth=3)\n",
    "\n",
    "# plt.xticks(())\n",
    "# plt.yticks(())\n",
    "\n",
    "# plt.show()"
   ]
  }
 ],
 "metadata": {
  "kernelspec": {
   "display_name": "Python 3",
   "language": "python",
   "name": "python3"
  },
  "language_info": {
   "codemirror_mode": {
    "name": "ipython",
    "version": 3
   },
   "file_extension": ".py",
   "mimetype": "text/x-python",
   "name": "python",
   "nbconvert_exporter": "python",
   "pygments_lexer": "ipython3",
   "version": "3.6.8"
  }
 },
 "nbformat": 4,
 "nbformat_minor": 2
}
